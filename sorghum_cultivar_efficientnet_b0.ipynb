{
  "metadata": {
    "kernelspec": {
      "language": "python",
      "display_name": "Python 3",
      "name": "python3"
    },
    "language_info": {
      "name": "python",
      "version": "3.7.12",
      "mimetype": "text/x-python",
      "codemirror_mode": {
        "name": "ipython",
        "version": 3
      },
      "pygments_lexer": "ipython3",
      "nbconvert_exporter": "python",
      "file_extension": ".py"
    },
    "colab": {
      "provenance": [],
      "include_colab_link": true
    }
  },
  "nbformat_minor": 0,
  "nbformat": 4,
  "cells": [
    {
      "cell_type": "markdown",
      "metadata": {
        "id": "view-in-github",
        "colab_type": "text"
      },
      "source": [
        "<a href=\"https://colab.research.google.com/github/shwetapriya64/Sorghum-cultivar_identification/blob/main/sorghum_cultivar_efficientnet_b0.ipynb\" target=\"_parent\"><img src=\"https://colab.research.google.com/assets/colab-badge.svg\" alt=\"Open In Colab\"/></a>"
      ]
    },
    {
      "cell_type": "code",
      "source": [
        "##import libraies\n",
        "import pandas as pd\n",
        "import matplotlib.pyplot as plt\n",
        "import os\n",
        "from sklearn import preprocessing\n",
        "from skimage import io\n",
        "import torch\n",
        "import torch.nn as nn\n",
        "import torch.nn.functional as F\n",
        "import torchvision\n",
        "import torchvision.transforms as transforms\n",
        "from torchvision import datasets, models\n",
        "from torch.utils.data import Dataset, DataLoader\n",
        "from sklearn.model_selection import train_test_split\n",
        "from tensorflow.keras.applications import EfficientNetB0\n",
        "\n",
        "%matplotlib inline"
      ],
      "metadata": {
        "execution": {
          "iopub.status.busy": "2023-02-09T05:57:18.175949Z",
          "iopub.execute_input": "2023-02-09T05:57:18.176410Z",
          "iopub.status.idle": "2023-02-09T05:57:26.645165Z",
          "shell.execute_reply.started": "2023-02-09T05:57:18.176370Z",
          "shell.execute_reply": "2023-02-09T05:57:26.643841Z"
        },
        "trusted": true,
        "id": "OBQF56MRhc05"
      },
      "execution_count": null,
      "outputs": []
    },
    {
      "cell_type": "code",
      "source": [
        "#import training data\n",
        "df_train = pd.read_csv('/kaggle/input/sorghum-id-fgvc-9/train_cultivar_mapping.csv',index_col = 'image')\n",
        "df_train.head()"
      ],
      "metadata": {
        "execution": {
          "iopub.status.busy": "2023-02-09T05:57:26.646780Z",
          "iopub.execute_input": "2023-02-09T05:57:26.647893Z",
          "iopub.status.idle": "2023-02-09T05:57:26.737618Z",
          "shell.execute_reply.started": "2023-02-09T05:57:26.647853Z",
          "shell.execute_reply": "2023-02-09T05:57:26.736624Z"
        },
        "trusted": true,
        "id": "f3e3tcv_hc05",
        "outputId": "ef9a13fa-3e16-419f-baf1-80b2001bc7e1"
      },
      "execution_count": null,
      "outputs": [
        {
          "execution_count": 3,
          "output_type": "execute_result",
          "data": {
            "text/plain": "                               cultivar\nimage                                  \n2017-06-16__12-24-20-930.png  PI_257599\n2017-06-02__16-48-57-866.png  PI_154987\n2017-06-12__13-18-07-707.png   PI_92270\n2017-06-22__13-18-06-841.png  PI_152651\n2017-06-26__12-56-48-642.png  PI_176766",
            "text/html": "<div>\n<style scoped>\n    .dataframe tbody tr th:only-of-type {\n        vertical-align: middle;\n    }\n\n    .dataframe tbody tr th {\n        vertical-align: top;\n    }\n\n    .dataframe thead th {\n        text-align: right;\n    }\n</style>\n<table border=\"1\" class=\"dataframe\">\n  <thead>\n    <tr style=\"text-align: right;\">\n      <th></th>\n      <th>cultivar</th>\n    </tr>\n    <tr>\n      <th>image</th>\n      <th></th>\n    </tr>\n  </thead>\n  <tbody>\n    <tr>\n      <th>2017-06-16__12-24-20-930.png</th>\n      <td>PI_257599</td>\n    </tr>\n    <tr>\n      <th>2017-06-02__16-48-57-866.png</th>\n      <td>PI_154987</td>\n    </tr>\n    <tr>\n      <th>2017-06-12__13-18-07-707.png</th>\n      <td>PI_92270</td>\n    </tr>\n    <tr>\n      <th>2017-06-22__13-18-06-841.png</th>\n      <td>PI_152651</td>\n    </tr>\n    <tr>\n      <th>2017-06-26__12-56-48-642.png</th>\n      <td>PI_176766</td>\n    </tr>\n  </tbody>\n</table>\n</div>"
          },
          "metadata": {}
        }
      ]
    },
    {
      "cell_type": "code",
      "source": [
        "#missing-values in training data \n",
        "df_train[df_train.cultivar.isna()]"
      ],
      "metadata": {
        "execution": {
          "iopub.status.busy": "2023-02-09T05:57:26.739731Z",
          "iopub.execute_input": "2023-02-09T05:57:26.740723Z",
          "iopub.status.idle": "2023-02-09T05:57:26.754890Z",
          "shell.execute_reply.started": "2023-02-09T05:57:26.740679Z",
          "shell.execute_reply": "2023-02-09T05:57:26.753724Z"
        },
        "trusted": true,
        "id": "WzKRK_ADhc05",
        "outputId": "0fcea4b4-d1c0-40b3-b8c1-a6a4257abc5f"
      },
      "execution_count": null,
      "outputs": [
        {
          "execution_count": 4,
          "output_type": "execute_result",
          "data": {
            "text/plain": "          cultivar\nimage             \n.DS_Store      NaN",
            "text/html": "<div>\n<style scoped>\n    .dataframe tbody tr th:only-of-type {\n        vertical-align: middle;\n    }\n\n    .dataframe tbody tr th {\n        vertical-align: top;\n    }\n\n    .dataframe thead th {\n        text-align: right;\n    }\n</style>\n<table border=\"1\" class=\"dataframe\">\n  <thead>\n    <tr style=\"text-align: right;\">\n      <th></th>\n      <th>cultivar</th>\n    </tr>\n    <tr>\n      <th>image</th>\n      <th></th>\n    </tr>\n  </thead>\n  <tbody>\n    <tr>\n      <th>.DS_Store</th>\n      <td>NaN</td>\n    </tr>\n  </tbody>\n</table>\n</div>"
          },
          "metadata": {}
        }
      ]
    },
    {
      "cell_type": "code",
      "source": [
        "n_images = os.listdir('/kaggle/input/sorghum-id-fgvc-9/train_images')\n",
        "len(n_images)"
      ],
      "metadata": {
        "execution": {
          "iopub.status.busy": "2023-02-09T05:57:26.756632Z",
          "iopub.execute_input": "2023-02-09T05:57:26.757219Z",
          "iopub.status.idle": "2023-02-09T05:57:26.777497Z",
          "shell.execute_reply.started": "2023-02-09T05:57:26.757170Z",
          "shell.execute_reply": "2023-02-09T05:57:26.776304Z"
        },
        "trusted": true,
        "id": "cm5_U1xChc06",
        "outputId": "4207f53c-c76b-4c82-a5f6-3d63e46a9fc4"
      },
      "execution_count": null,
      "outputs": [
        {
          "execution_count": 5,
          "output_type": "execute_result",
          "data": {
            "text/plain": "22193"
          },
          "metadata": {}
        }
      ]
    },
    {
      "cell_type": "code",
      "source": [
        "len(df_train)"
      ],
      "metadata": {
        "execution": {
          "iopub.status.busy": "2023-02-09T05:57:26.781679Z",
          "iopub.execute_input": "2023-02-09T05:57:26.782061Z",
          "iopub.status.idle": "2023-02-09T05:57:26.790963Z",
          "shell.execute_reply.started": "2023-02-09T05:57:26.782028Z",
          "shell.execute_reply": "2023-02-09T05:57:26.789731Z"
        },
        "trusted": true,
        "id": "0w0KP9zVhc06",
        "outputId": "26f0cac5-1dc8-4ace-abdd-0cd53a29460e"
      },
      "execution_count": null,
      "outputs": [
        {
          "execution_count": 6,
          "output_type": "execute_result",
          "data": {
            "text/plain": "22194"
          },
          "metadata": {}
        }
      ]
    },
    {
      "cell_type": "code",
      "source": [
        "df_train = df_train.loc[n_images]"
      ],
      "metadata": {
        "execution": {
          "iopub.status.busy": "2023-02-09T05:57:26.792664Z",
          "iopub.execute_input": "2023-02-09T05:57:26.793062Z",
          "iopub.status.idle": "2023-02-09T05:57:26.818666Z",
          "shell.execute_reply.started": "2023-02-09T05:57:26.793018Z",
          "shell.execute_reply": "2023-02-09T05:57:26.817380Z"
        },
        "trusted": true,
        "id": "EqAnRJ9fhc07"
      },
      "execution_count": null,
      "outputs": []
    },
    {
      "cell_type": "code",
      "source": [
        "len(df_train)"
      ],
      "metadata": {
        "execution": {
          "iopub.status.busy": "2023-02-09T05:57:26.820229Z",
          "iopub.execute_input": "2023-02-09T05:57:26.820741Z",
          "iopub.status.idle": "2023-02-09T05:57:26.828109Z",
          "shell.execute_reply.started": "2023-02-09T05:57:26.820705Z",
          "shell.execute_reply": "2023-02-09T05:57:26.826833Z"
        },
        "trusted": true,
        "id": "1zn8-aSehc07",
        "outputId": "d77a4413-1d57-455c-a42b-a5250bf03d3e"
      },
      "execution_count": null,
      "outputs": [
        {
          "execution_count": 8,
          "output_type": "execute_result",
          "data": {
            "text/plain": "22193"
          },
          "metadata": {}
        }
      ]
    },
    {
      "cell_type": "code",
      "source": [
        "df_train[df_train.cultivar.isna()]"
      ],
      "metadata": {
        "execution": {
          "iopub.status.busy": "2023-02-09T05:57:26.829973Z",
          "iopub.execute_input": "2023-02-09T05:57:26.830360Z",
          "iopub.status.idle": "2023-02-09T05:57:26.845565Z",
          "shell.execute_reply.started": "2023-02-09T05:57:26.830322Z",
          "shell.execute_reply": "2023-02-09T05:57:26.844253Z"
        },
        "trusted": true,
        "id": "_OcDaZsrhc07",
        "outputId": "9708fb0e-a660-40ee-85bc-0bd334ba1ca7"
      },
      "execution_count": null,
      "outputs": [
        {
          "execution_count": 9,
          "output_type": "execute_result",
          "data": {
            "text/plain": "Empty DataFrame\nColumns: [cultivar]\nIndex: []",
            "text/html": "<div>\n<style scoped>\n    .dataframe tbody tr th:only-of-type {\n        vertical-align: middle;\n    }\n\n    .dataframe tbody tr th {\n        vertical-align: top;\n    }\n\n    .dataframe thead th {\n        text-align: right;\n    }\n</style>\n<table border=\"1\" class=\"dataframe\">\n  <thead>\n    <tr style=\"text-align: right;\">\n      <th></th>\n      <th>cultivar</th>\n    </tr>\n    <tr>\n      <th>image</th>\n      <th></th>\n    </tr>\n  </thead>\n  <tbody>\n  </tbody>\n</table>\n</div>"
          },
          "metadata": {}
        }
      ]
    },
    {
      "cell_type": "code",
      "source": [
        "df_train.cultivar.nunique()"
      ],
      "metadata": {
        "execution": {
          "iopub.status.busy": "2023-02-09T05:57:26.849665Z",
          "iopub.execute_input": "2023-02-09T05:57:26.850621Z",
          "iopub.status.idle": "2023-02-09T05:57:26.859414Z",
          "shell.execute_reply.started": "2023-02-09T05:57:26.850585Z",
          "shell.execute_reply": "2023-02-09T05:57:26.858358Z"
        },
        "trusted": true,
        "id": "SNOPEnechc08",
        "outputId": "811246b6-f178-454b-b436-2ed0390153e2"
      },
      "execution_count": null,
      "outputs": [
        {
          "execution_count": 10,
          "output_type": "execute_result",
          "data": {
            "text/plain": "100"
          },
          "metadata": {}
        }
      ]
    },
    {
      "cell_type": "code",
      "source": [
        "df_train.cultivar.value_counts()"
      ],
      "metadata": {
        "execution": {
          "iopub.status.busy": "2023-02-09T05:57:26.860839Z",
          "iopub.execute_input": "2023-02-09T05:57:26.861171Z",
          "iopub.status.idle": "2023-02-09T05:57:26.876268Z",
          "shell.execute_reply.started": "2023-02-09T05:57:26.861141Z",
          "shell.execute_reply": "2023-02-09T05:57:26.875264Z"
        },
        "trusted": true,
        "id": "NeSo6COChc08",
        "outputId": "d6f92941-47b5-4f83-d96a-cfa00b6f8c96"
      },
      "execution_count": null,
      "outputs": [
        {
          "execution_count": 11,
          "output_type": "execute_result",
          "data": {
            "text/plain": "PI_156393    298\nPI_155760    282\nPI_157030    272\nPI_329299    269\nPI_152771    262\n            ... \nPI_152816    136\nPI_181080    136\nPI_152971    135\nPI_213900    135\nPI_257600    134\nName: cultivar, Length: 100, dtype: int64"
          },
          "metadata": {}
        }
      ]
    },
    {
      "cell_type": "code",
      "source": [
        "df_train.reset_index(inplace = True)"
      ],
      "metadata": {
        "execution": {
          "iopub.status.busy": "2023-02-09T05:57:26.878155Z",
          "iopub.execute_input": "2023-02-09T05:57:26.878620Z",
          "iopub.status.idle": "2023-02-09T05:57:26.888364Z",
          "shell.execute_reply.started": "2023-02-09T05:57:26.878577Z",
          "shell.execute_reply": "2023-02-09T05:57:26.887349Z"
        },
        "trusted": true,
        "id": "ekffQm7ghc08"
      },
      "execution_count": null,
      "outputs": []
    },
    {
      "cell_type": "code",
      "source": [
        "#label-encoding of sorghum cultivars\n",
        "encoder = preprocessing.LabelEncoder()\n",
        "df_train['cultivar_label'] = encoder.fit_transform(df_train.cultivar)\n",
        "df_train.head()\n"
      ],
      "metadata": {
        "execution": {
          "iopub.status.busy": "2023-02-09T05:57:26.889646Z",
          "iopub.execute_input": "2023-02-09T05:57:26.890043Z",
          "iopub.status.idle": "2023-02-09T05:57:26.913982Z",
          "shell.execute_reply.started": "2023-02-09T05:57:26.890009Z",
          "shell.execute_reply": "2023-02-09T05:57:26.912769Z"
        },
        "trusted": true,
        "id": "AjE3davdhc08",
        "outputId": "f92999e5-62cd-4c09-8fa0-1c66a70689c0"
      },
      "execution_count": null,
      "outputs": [
        {
          "execution_count": 13,
          "output_type": "execute_result",
          "data": {
            "text/plain": "                          image   cultivar  cultivar_label\n0  2017-06-15__13-09-26-144.png  PI_145619               1\n1  2017-06-26__11-39-54-016.png  PI_329301              89\n2  2017-06-28__10-34-55-758.png  PI_152727               8\n3  2017-06-16__12-24-48-376.png  PI_156178              34\n4  2017-06-12__13-43-48-343.png  PI_154987              29",
            "text/html": "<div>\n<style scoped>\n    .dataframe tbody tr th:only-of-type {\n        vertical-align: middle;\n    }\n\n    .dataframe tbody tr th {\n        vertical-align: top;\n    }\n\n    .dataframe thead th {\n        text-align: right;\n    }\n</style>\n<table border=\"1\" class=\"dataframe\">\n  <thead>\n    <tr style=\"text-align: right;\">\n      <th></th>\n      <th>image</th>\n      <th>cultivar</th>\n      <th>cultivar_label</th>\n    </tr>\n  </thead>\n  <tbody>\n    <tr>\n      <th>0</th>\n      <td>2017-06-15__13-09-26-144.png</td>\n      <td>PI_145619</td>\n      <td>1</td>\n    </tr>\n    <tr>\n      <th>1</th>\n      <td>2017-06-26__11-39-54-016.png</td>\n      <td>PI_329301</td>\n      <td>89</td>\n    </tr>\n    <tr>\n      <th>2</th>\n      <td>2017-06-28__10-34-55-758.png</td>\n      <td>PI_152727</td>\n      <td>8</td>\n    </tr>\n    <tr>\n      <th>3</th>\n      <td>2017-06-16__12-24-48-376.png</td>\n      <td>PI_156178</td>\n      <td>34</td>\n    </tr>\n    <tr>\n      <th>4</th>\n      <td>2017-06-12__13-43-48-343.png</td>\n      <td>PI_154987</td>\n      <td>29</td>\n    </tr>\n  </tbody>\n</table>\n</div>"
          },
          "metadata": {}
        }
      ]
    },
    {
      "cell_type": "code",
      "source": [
        "df_train.drop('cultivar', axis = 1, inplace = True)"
      ],
      "metadata": {
        "execution": {
          "iopub.status.busy": "2023-02-09T05:57:26.917021Z",
          "iopub.execute_input": "2023-02-09T05:57:26.917419Z",
          "iopub.status.idle": "2023-02-09T05:57:26.929493Z",
          "shell.execute_reply.started": "2023-02-09T05:57:26.917385Z",
          "shell.execute_reply": "2023-02-09T05:57:26.928253Z"
        },
        "trusted": true,
        "id": "L9CZAyLZhc08"
      },
      "execution_count": null,
      "outputs": []
    },
    {
      "cell_type": "code",
      "source": [
        "df_train.head()"
      ],
      "metadata": {
        "execution": {
          "iopub.status.busy": "2023-02-09T05:57:26.931737Z",
          "iopub.execute_input": "2023-02-09T05:57:26.932277Z",
          "iopub.status.idle": "2023-02-09T05:57:26.944526Z",
          "shell.execute_reply.started": "2023-02-09T05:57:26.932229Z",
          "shell.execute_reply": "2023-02-09T05:57:26.943643Z"
        },
        "trusted": true,
        "id": "ElfdriFqhc09",
        "outputId": "4d446c0c-bb3c-467d-815d-a37068f9ad24"
      },
      "execution_count": null,
      "outputs": [
        {
          "execution_count": 15,
          "output_type": "execute_result",
          "data": {
            "text/plain": "                          image  cultivar_label\n0  2017-06-15__13-09-26-144.png               1\n1  2017-06-26__11-39-54-016.png              89\n2  2017-06-28__10-34-55-758.png               8\n3  2017-06-16__12-24-48-376.png              34\n4  2017-06-12__13-43-48-343.png              29",
            "text/html": "<div>\n<style scoped>\n    .dataframe tbody tr th:only-of-type {\n        vertical-align: middle;\n    }\n\n    .dataframe tbody tr th {\n        vertical-align: top;\n    }\n\n    .dataframe thead th {\n        text-align: right;\n    }\n</style>\n<table border=\"1\" class=\"dataframe\">\n  <thead>\n    <tr style=\"text-align: right;\">\n      <th></th>\n      <th>image</th>\n      <th>cultivar_label</th>\n    </tr>\n  </thead>\n  <tbody>\n    <tr>\n      <th>0</th>\n      <td>2017-06-15__13-09-26-144.png</td>\n      <td>1</td>\n    </tr>\n    <tr>\n      <th>1</th>\n      <td>2017-06-26__11-39-54-016.png</td>\n      <td>89</td>\n    </tr>\n    <tr>\n      <th>2</th>\n      <td>2017-06-28__10-34-55-758.png</td>\n      <td>8</td>\n    </tr>\n    <tr>\n      <th>3</th>\n      <td>2017-06-16__12-24-48-376.png</td>\n      <td>34</td>\n    </tr>\n    <tr>\n      <th>4</th>\n      <td>2017-06-12__13-43-48-343.png</td>\n      <td>29</td>\n    </tr>\n  </tbody>\n</table>\n</div>"
          },
          "metadata": {}
        }
      ]
    },
    {
      "cell_type": "code",
      "source": [
        "#Custom dataset for train data\n",
        "class SorghumCultivar(Dataset):\n",
        "    def __init__(self, label_data, path, transform):\n",
        "        super().__init__()\n",
        "        self.label_data = label_data.values\n",
        "        self.path = path\n",
        "        self.transform = transform\n",
        "\n",
        "    def __len__(self):\n",
        "        return len(self.label_data)\n",
        "    \n",
        "    def __getitem__(self, index):\n",
        "        img_name,label = self.label_data[index]\n",
        "\n",
        "        img_path = os.path.join(self.path, img_name)   \n",
        "            \n",
        "        image = io.imread(img_path)\n",
        "        \n",
        "        image = self.transform(image)\n",
        "        \n",
        "        return image, label"
      ],
      "metadata": {
        "execution": {
          "iopub.status.busy": "2023-02-09T05:57:26.945593Z",
          "iopub.execute_input": "2023-02-09T05:57:26.946522Z",
          "iopub.status.idle": "2023-02-09T05:57:26.956273Z",
          "shell.execute_reply.started": "2023-02-09T05:57:26.946490Z",
          "shell.execute_reply": "2023-02-09T05:57:26.955324Z"
        },
        "trusted": true,
        "id": "sJLQQQb4hc09"
      },
      "execution_count": null,
      "outputs": []
    },
    {
      "cell_type": "code",
      "source": [
        "#define transformations and train-val loaders\n",
        "train_transform = transforms.Compose([\n",
        "                                    transforms.ToPILImage(),\n",
        "                                    transforms.Resize(256),\n",
        "                                    transforms.RandomHorizontalFlip(),\n",
        "                                    transforms.RandomVerticalFlip(),\n",
        "                                    transforms.CenterCrop(224),\n",
        "                                    transforms.ToTensor(),\n",
        "                                    transforms.Normalize(mean=[0.485, 0.456, 0.406],\n",
        "                                                         std=[0.229, 0.224, 0.225])\n",
        "])\n",
        "\n",
        "val_transform =transforms.Compose([\n",
        "                                    transforms.ToPILImage(),\n",
        "                                    transforms.Resize(256),\n",
        "                                    transforms.CenterCrop(224),\n",
        "                                    transforms.ToTensor(),\n",
        "                                    transforms.Normalize(mean=[0.485, 0.456, 0.406],\n",
        "                                                         std=[0.229, 0.224, 0.225])\n",
        "])"
      ],
      "metadata": {
        "execution": {
          "iopub.status.busy": "2023-02-09T05:57:26.957467Z",
          "iopub.execute_input": "2023-02-09T05:57:26.958227Z",
          "iopub.status.idle": "2023-02-09T05:57:26.969312Z",
          "shell.execute_reply.started": "2023-02-09T05:57:26.958194Z",
          "shell.execute_reply": "2023-02-09T05:57:26.968381Z"
        },
        "trusted": true,
        "id": "JErIv9E-hc09"
      },
      "execution_count": null,
      "outputs": []
    },
    {
      "cell_type": "code",
      "source": [
        "#train-val split\n",
        "from sklearn.model_selection import train_test_split\n",
        "train, valid = train_test_split(df_train, stratify = df_train['cultivar_label'], test_size = 0.1)"
      ],
      "metadata": {
        "execution": {
          "iopub.status.busy": "2023-02-09T05:57:26.971096Z",
          "iopub.execute_input": "2023-02-09T05:57:26.971881Z",
          "iopub.status.idle": "2023-02-09T05:57:26.998930Z",
          "shell.execute_reply.started": "2023-02-09T05:57:26.971832Z",
          "shell.execute_reply": "2023-02-09T05:57:26.997795Z"
        },
        "trusted": true,
        "id": "7z7Cclybhc09"
      },
      "execution_count": null,
      "outputs": []
    },
    {
      "cell_type": "code",
      "source": [
        "train_img_dir = '/kaggle/input/sorghum-id-fgvc-9/train_images'\n",
        "train_data = SorghumCultivar(train, train_img_dir, train_transform)\n",
        "valid_data = SorghumCultivar(valid, train_img_dir, val_transform )"
      ],
      "metadata": {
        "execution": {
          "iopub.status.busy": "2023-02-09T05:57:27.000836Z",
          "iopub.execute_input": "2023-02-09T05:57:27.001241Z",
          "iopub.status.idle": "2023-02-09T05:57:27.008584Z",
          "shell.execute_reply.started": "2023-02-09T05:57:27.001207Z",
          "shell.execute_reply": "2023-02-09T05:57:27.007320Z"
        },
        "trusted": true,
        "id": "v1kBMcGIhc09"
      },
      "execution_count": null,
      "outputs": []
    },
    {
      "cell_type": "code",
      "source": [
        "device = torch.device('cuda:0' if torch.cuda.is_available() else 'cpu')\n",
        "device"
      ],
      "metadata": {
        "execution": {
          "iopub.status.busy": "2023-02-09T05:57:27.010049Z",
          "iopub.execute_input": "2023-02-09T05:57:27.011000Z",
          "iopub.status.idle": "2023-02-09T05:57:27.023777Z",
          "shell.execute_reply.started": "2023-02-09T05:57:27.010963Z",
          "shell.execute_reply": "2023-02-09T05:57:27.022603Z"
        },
        "trusted": true,
        "id": "LXhcZ_2bhc09",
        "outputId": "535fd5ca-4146-4000-bdcb-43a149f68f5b"
      },
      "execution_count": null,
      "outputs": [
        {
          "execution_count": 20,
          "output_type": "execute_result",
          "data": {
            "text/plain": "device(type='cpu')"
          },
          "metadata": {}
        }
      ]
    },
    {
      "cell_type": "code",
      "source": [
        "# Hyper parameters\n",
        "num_epochs = 12\n",
        "num_classes = 100\n",
        "batch_size = 32\n",
        "learning_rate = 0.001"
      ],
      "metadata": {
        "execution": {
          "iopub.status.busy": "2023-02-09T05:57:27.025094Z",
          "iopub.execute_input": "2023-02-09T05:57:27.025456Z",
          "iopub.status.idle": "2023-02-09T05:57:27.033888Z",
          "shell.execute_reply.started": "2023-02-09T05:57:27.025417Z",
          "shell.execute_reply": "2023-02-09T05:57:27.032768Z"
        },
        "trusted": true,
        "id": "aRPfdXsrhc09"
      },
      "execution_count": null,
      "outputs": []
    },
    {
      "cell_type": "code",
      "source": [
        "train_loader = DataLoader(dataset = train_data, batch_size = batch_size, shuffle=True, num_workers=1)\n",
        "valid_loader = DataLoader(dataset = valid_data, batch_size = batch_size, shuffle=False, num_workers=1)"
      ],
      "metadata": {
        "execution": {
          "iopub.status.busy": "2023-02-09T05:57:27.035391Z",
          "iopub.execute_input": "2023-02-09T05:57:27.036493Z",
          "iopub.status.idle": "2023-02-09T05:57:27.046671Z",
          "shell.execute_reply.started": "2023-02-09T05:57:27.036456Z",
          "shell.execute_reply": "2023-02-09T05:57:27.045260Z"
        },
        "trusted": true,
        "id": "QzPj1Z9Khc09"
      },
      "execution_count": null,
      "outputs": []
    },
    {
      "cell_type": "code",
      "source": [
        "#import pretrained efficientnet b0\n",
        "model=models.efficientnet_b0(pretrained=True)\n",
        "model=nn.DataParallel(model)\n",
        "model"
      ],
      "metadata": {
        "execution": {
          "iopub.status.busy": "2023-02-09T05:57:27.048417Z",
          "iopub.execute_input": "2023-02-09T05:57:27.048917Z",
          "iopub.status.idle": "2023-02-09T05:57:31.359736Z",
          "shell.execute_reply.started": "2023-02-09T05:57:27.048870Z",
          "shell.execute_reply": "2023-02-09T05:57:31.358621Z"
        },
        "trusted": true,
        "colab": {
          "referenced_widgets": [
            "c87d2ebdc8f3492c82de79ba054c919d"
          ]
        },
        "id": "OgMZ8ZlKhc0-",
        "outputId": "3730ef73-e476-478d-d6db-bb5e3fe1363c"
      },
      "execution_count": null,
      "outputs": [
        {
          "name": "stderr",
          "text": "Downloading: \"https://download.pytorch.org/models/efficientnet_b0_rwightman-3dd342df.pth\" to /root/.cache/torch/hub/checkpoints/efficientnet_b0_rwightman-3dd342df.pth\n",
          "output_type": "stream"
        },
        {
          "output_type": "display_data",
          "data": {
            "text/plain": "  0%|          | 0.00/20.5M [00:00<?, ?B/s]",
            "application/vnd.jupyter.widget-view+json": {
              "version_major": 2,
              "version_minor": 0,
              "model_id": "c87d2ebdc8f3492c82de79ba054c919d"
            }
          },
          "metadata": {}
        },
        {
          "execution_count": 23,
          "output_type": "execute_result",
          "data": {
            "text/plain": "DataParallel(\n  (module): EfficientNet(\n    (features): Sequential(\n      (0): ConvNormActivation(\n        (0): Conv2d(3, 32, kernel_size=(3, 3), stride=(2, 2), padding=(1, 1), bias=False)\n        (1): BatchNorm2d(32, eps=1e-05, momentum=0.1, affine=True, track_running_stats=True)\n        (2): SiLU(inplace=True)\n      )\n      (1): Sequential(\n        (0): MBConv(\n          (block): Sequential(\n            (0): ConvNormActivation(\n              (0): Conv2d(32, 32, kernel_size=(3, 3), stride=(1, 1), padding=(1, 1), groups=32, bias=False)\n              (1): BatchNorm2d(32, eps=1e-05, momentum=0.1, affine=True, track_running_stats=True)\n              (2): SiLU(inplace=True)\n            )\n            (1): SqueezeExcitation(\n              (avgpool): AdaptiveAvgPool2d(output_size=1)\n              (fc1): Conv2d(32, 8, kernel_size=(1, 1), stride=(1, 1))\n              (fc2): Conv2d(8, 32, kernel_size=(1, 1), stride=(1, 1))\n              (activation): SiLU(inplace=True)\n              (scale_activation): Sigmoid()\n            )\n            (2): ConvNormActivation(\n              (0): Conv2d(32, 16, kernel_size=(1, 1), stride=(1, 1), bias=False)\n              (1): BatchNorm2d(16, eps=1e-05, momentum=0.1, affine=True, track_running_stats=True)\n            )\n          )\n          (stochastic_depth): StochasticDepth(p=0.0, mode=row)\n        )\n      )\n      (2): Sequential(\n        (0): MBConv(\n          (block): Sequential(\n            (0): ConvNormActivation(\n              (0): Conv2d(16, 96, kernel_size=(1, 1), stride=(1, 1), bias=False)\n              (1): BatchNorm2d(96, eps=1e-05, momentum=0.1, affine=True, track_running_stats=True)\n              (2): SiLU(inplace=True)\n            )\n            (1): ConvNormActivation(\n              (0): Conv2d(96, 96, kernel_size=(3, 3), stride=(2, 2), padding=(1, 1), groups=96, bias=False)\n              (1): BatchNorm2d(96, eps=1e-05, momentum=0.1, affine=True, track_running_stats=True)\n              (2): SiLU(inplace=True)\n            )\n            (2): SqueezeExcitation(\n              (avgpool): AdaptiveAvgPool2d(output_size=1)\n              (fc1): Conv2d(96, 4, kernel_size=(1, 1), stride=(1, 1))\n              (fc2): Conv2d(4, 96, kernel_size=(1, 1), stride=(1, 1))\n              (activation): SiLU(inplace=True)\n              (scale_activation): Sigmoid()\n            )\n            (3): ConvNormActivation(\n              (0): Conv2d(96, 24, kernel_size=(1, 1), stride=(1, 1), bias=False)\n              (1): BatchNorm2d(24, eps=1e-05, momentum=0.1, affine=True, track_running_stats=True)\n            )\n          )\n          (stochastic_depth): StochasticDepth(p=0.0125, mode=row)\n        )\n        (1): MBConv(\n          (block): Sequential(\n            (0): ConvNormActivation(\n              (0): Conv2d(24, 144, kernel_size=(1, 1), stride=(1, 1), bias=False)\n              (1): BatchNorm2d(144, eps=1e-05, momentum=0.1, affine=True, track_running_stats=True)\n              (2): SiLU(inplace=True)\n            )\n            (1): ConvNormActivation(\n              (0): Conv2d(144, 144, kernel_size=(3, 3), stride=(1, 1), padding=(1, 1), groups=144, bias=False)\n              (1): BatchNorm2d(144, eps=1e-05, momentum=0.1, affine=True, track_running_stats=True)\n              (2): SiLU(inplace=True)\n            )\n            (2): SqueezeExcitation(\n              (avgpool): AdaptiveAvgPool2d(output_size=1)\n              (fc1): Conv2d(144, 6, kernel_size=(1, 1), stride=(1, 1))\n              (fc2): Conv2d(6, 144, kernel_size=(1, 1), stride=(1, 1))\n              (activation): SiLU(inplace=True)\n              (scale_activation): Sigmoid()\n            )\n            (3): ConvNormActivation(\n              (0): Conv2d(144, 24, kernel_size=(1, 1), stride=(1, 1), bias=False)\n              (1): BatchNorm2d(24, eps=1e-05, momentum=0.1, affine=True, track_running_stats=True)\n            )\n          )\n          (stochastic_depth): StochasticDepth(p=0.025, mode=row)\n        )\n      )\n      (3): Sequential(\n        (0): MBConv(\n          (block): Sequential(\n            (0): ConvNormActivation(\n              (0): Conv2d(24, 144, kernel_size=(1, 1), stride=(1, 1), bias=False)\n              (1): BatchNorm2d(144, eps=1e-05, momentum=0.1, affine=True, track_running_stats=True)\n              (2): SiLU(inplace=True)\n            )\n            (1): ConvNormActivation(\n              (0): Conv2d(144, 144, kernel_size=(5, 5), stride=(2, 2), padding=(2, 2), groups=144, bias=False)\n              (1): BatchNorm2d(144, eps=1e-05, momentum=0.1, affine=True, track_running_stats=True)\n              (2): SiLU(inplace=True)\n            )\n            (2): SqueezeExcitation(\n              (avgpool): AdaptiveAvgPool2d(output_size=1)\n              (fc1): Conv2d(144, 6, kernel_size=(1, 1), stride=(1, 1))\n              (fc2): Conv2d(6, 144, kernel_size=(1, 1), stride=(1, 1))\n              (activation): SiLU(inplace=True)\n              (scale_activation): Sigmoid()\n            )\n            (3): ConvNormActivation(\n              (0): Conv2d(144, 40, kernel_size=(1, 1), stride=(1, 1), bias=False)\n              (1): BatchNorm2d(40, eps=1e-05, momentum=0.1, affine=True, track_running_stats=True)\n            )\n          )\n          (stochastic_depth): StochasticDepth(p=0.037500000000000006, mode=row)\n        )\n        (1): MBConv(\n          (block): Sequential(\n            (0): ConvNormActivation(\n              (0): Conv2d(40, 240, kernel_size=(1, 1), stride=(1, 1), bias=False)\n              (1): BatchNorm2d(240, eps=1e-05, momentum=0.1, affine=True, track_running_stats=True)\n              (2): SiLU(inplace=True)\n            )\n            (1): ConvNormActivation(\n              (0): Conv2d(240, 240, kernel_size=(5, 5), stride=(1, 1), padding=(2, 2), groups=240, bias=False)\n              (1): BatchNorm2d(240, eps=1e-05, momentum=0.1, affine=True, track_running_stats=True)\n              (2): SiLU(inplace=True)\n            )\n            (2): SqueezeExcitation(\n              (avgpool): AdaptiveAvgPool2d(output_size=1)\n              (fc1): Conv2d(240, 10, kernel_size=(1, 1), stride=(1, 1))\n              (fc2): Conv2d(10, 240, kernel_size=(1, 1), stride=(1, 1))\n              (activation): SiLU(inplace=True)\n              (scale_activation): Sigmoid()\n            )\n            (3): ConvNormActivation(\n              (0): Conv2d(240, 40, kernel_size=(1, 1), stride=(1, 1), bias=False)\n              (1): BatchNorm2d(40, eps=1e-05, momentum=0.1, affine=True, track_running_stats=True)\n            )\n          )\n          (stochastic_depth): StochasticDepth(p=0.05, mode=row)\n        )\n      )\n      (4): Sequential(\n        (0): MBConv(\n          (block): Sequential(\n            (0): ConvNormActivation(\n              (0): Conv2d(40, 240, kernel_size=(1, 1), stride=(1, 1), bias=False)\n              (1): BatchNorm2d(240, eps=1e-05, momentum=0.1, affine=True, track_running_stats=True)\n              (2): SiLU(inplace=True)\n            )\n            (1): ConvNormActivation(\n              (0): Conv2d(240, 240, kernel_size=(3, 3), stride=(2, 2), padding=(1, 1), groups=240, bias=False)\n              (1): BatchNorm2d(240, eps=1e-05, momentum=0.1, affine=True, track_running_stats=True)\n              (2): SiLU(inplace=True)\n            )\n            (2): SqueezeExcitation(\n              (avgpool): AdaptiveAvgPool2d(output_size=1)\n              (fc1): Conv2d(240, 10, kernel_size=(1, 1), stride=(1, 1))\n              (fc2): Conv2d(10, 240, kernel_size=(1, 1), stride=(1, 1))\n              (activation): SiLU(inplace=True)\n              (scale_activation): Sigmoid()\n            )\n            (3): ConvNormActivation(\n              (0): Conv2d(240, 80, kernel_size=(1, 1), stride=(1, 1), bias=False)\n              (1): BatchNorm2d(80, eps=1e-05, momentum=0.1, affine=True, track_running_stats=True)\n            )\n          )\n          (stochastic_depth): StochasticDepth(p=0.0625, mode=row)\n        )\n        (1): MBConv(\n          (block): Sequential(\n            (0): ConvNormActivation(\n              (0): Conv2d(80, 480, kernel_size=(1, 1), stride=(1, 1), bias=False)\n              (1): BatchNorm2d(480, eps=1e-05, momentum=0.1, affine=True, track_running_stats=True)\n              (2): SiLU(inplace=True)\n            )\n            (1): ConvNormActivation(\n              (0): Conv2d(480, 480, kernel_size=(3, 3), stride=(1, 1), padding=(1, 1), groups=480, bias=False)\n              (1): BatchNorm2d(480, eps=1e-05, momentum=0.1, affine=True, track_running_stats=True)\n              (2): SiLU(inplace=True)\n            )\n            (2): SqueezeExcitation(\n              (avgpool): AdaptiveAvgPool2d(output_size=1)\n              (fc1): Conv2d(480, 20, kernel_size=(1, 1), stride=(1, 1))\n              (fc2): Conv2d(20, 480, kernel_size=(1, 1), stride=(1, 1))\n              (activation): SiLU(inplace=True)\n              (scale_activation): Sigmoid()\n            )\n            (3): ConvNormActivation(\n              (0): Conv2d(480, 80, kernel_size=(1, 1), stride=(1, 1), bias=False)\n              (1): BatchNorm2d(80, eps=1e-05, momentum=0.1, affine=True, track_running_stats=True)\n            )\n          )\n          (stochastic_depth): StochasticDepth(p=0.07500000000000001, mode=row)\n        )\n        (2): MBConv(\n          (block): Sequential(\n            (0): ConvNormActivation(\n              (0): Conv2d(80, 480, kernel_size=(1, 1), stride=(1, 1), bias=False)\n              (1): BatchNorm2d(480, eps=1e-05, momentum=0.1, affine=True, track_running_stats=True)\n              (2): SiLU(inplace=True)\n            )\n            (1): ConvNormActivation(\n              (0): Conv2d(480, 480, kernel_size=(3, 3), stride=(1, 1), padding=(1, 1), groups=480, bias=False)\n              (1): BatchNorm2d(480, eps=1e-05, momentum=0.1, affine=True, track_running_stats=True)\n              (2): SiLU(inplace=True)\n            )\n            (2): SqueezeExcitation(\n              (avgpool): AdaptiveAvgPool2d(output_size=1)\n              (fc1): Conv2d(480, 20, kernel_size=(1, 1), stride=(1, 1))\n              (fc2): Conv2d(20, 480, kernel_size=(1, 1), stride=(1, 1))\n              (activation): SiLU(inplace=True)\n              (scale_activation): Sigmoid()\n            )\n            (3): ConvNormActivation(\n              (0): Conv2d(480, 80, kernel_size=(1, 1), stride=(1, 1), bias=False)\n              (1): BatchNorm2d(80, eps=1e-05, momentum=0.1, affine=True, track_running_stats=True)\n            )\n          )\n          (stochastic_depth): StochasticDepth(p=0.08750000000000001, mode=row)\n        )\n      )\n      (5): Sequential(\n        (0): MBConv(\n          (block): Sequential(\n            (0): ConvNormActivation(\n              (0): Conv2d(80, 480, kernel_size=(1, 1), stride=(1, 1), bias=False)\n              (1): BatchNorm2d(480, eps=1e-05, momentum=0.1, affine=True, track_running_stats=True)\n              (2): SiLU(inplace=True)\n            )\n            (1): ConvNormActivation(\n              (0): Conv2d(480, 480, kernel_size=(5, 5), stride=(1, 1), padding=(2, 2), groups=480, bias=False)\n              (1): BatchNorm2d(480, eps=1e-05, momentum=0.1, affine=True, track_running_stats=True)\n              (2): SiLU(inplace=True)\n            )\n            (2): SqueezeExcitation(\n              (avgpool): AdaptiveAvgPool2d(output_size=1)\n              (fc1): Conv2d(480, 20, kernel_size=(1, 1), stride=(1, 1))\n              (fc2): Conv2d(20, 480, kernel_size=(1, 1), stride=(1, 1))\n              (activation): SiLU(inplace=True)\n              (scale_activation): Sigmoid()\n            )\n            (3): ConvNormActivation(\n              (0): Conv2d(480, 112, kernel_size=(1, 1), stride=(1, 1), bias=False)\n              (1): BatchNorm2d(112, eps=1e-05, momentum=0.1, affine=True, track_running_stats=True)\n            )\n          )\n          (stochastic_depth): StochasticDepth(p=0.1, mode=row)\n        )\n        (1): MBConv(\n          (block): Sequential(\n            (0): ConvNormActivation(\n              (0): Conv2d(112, 672, kernel_size=(1, 1), stride=(1, 1), bias=False)\n              (1): BatchNorm2d(672, eps=1e-05, momentum=0.1, affine=True, track_running_stats=True)\n              (2): SiLU(inplace=True)\n            )\n            (1): ConvNormActivation(\n              (0): Conv2d(672, 672, kernel_size=(5, 5), stride=(1, 1), padding=(2, 2), groups=672, bias=False)\n              (1): BatchNorm2d(672, eps=1e-05, momentum=0.1, affine=True, track_running_stats=True)\n              (2): SiLU(inplace=True)\n            )\n            (2): SqueezeExcitation(\n              (avgpool): AdaptiveAvgPool2d(output_size=1)\n              (fc1): Conv2d(672, 28, kernel_size=(1, 1), stride=(1, 1))\n              (fc2): Conv2d(28, 672, kernel_size=(1, 1), stride=(1, 1))\n              (activation): SiLU(inplace=True)\n              (scale_activation): Sigmoid()\n            )\n            (3): ConvNormActivation(\n              (0): Conv2d(672, 112, kernel_size=(1, 1), stride=(1, 1), bias=False)\n              (1): BatchNorm2d(112, eps=1e-05, momentum=0.1, affine=True, track_running_stats=True)\n            )\n          )\n          (stochastic_depth): StochasticDepth(p=0.1125, mode=row)\n        )\n        (2): MBConv(\n          (block): Sequential(\n            (0): ConvNormActivation(\n              (0): Conv2d(112, 672, kernel_size=(1, 1), stride=(1, 1), bias=False)\n              (1): BatchNorm2d(672, eps=1e-05, momentum=0.1, affine=True, track_running_stats=True)\n              (2): SiLU(inplace=True)\n            )\n            (1): ConvNormActivation(\n              (0): Conv2d(672, 672, kernel_size=(5, 5), stride=(1, 1), padding=(2, 2), groups=672, bias=False)\n              (1): BatchNorm2d(672, eps=1e-05, momentum=0.1, affine=True, track_running_stats=True)\n              (2): SiLU(inplace=True)\n            )\n            (2): SqueezeExcitation(\n              (avgpool): AdaptiveAvgPool2d(output_size=1)\n              (fc1): Conv2d(672, 28, kernel_size=(1, 1), stride=(1, 1))\n              (fc2): Conv2d(28, 672, kernel_size=(1, 1), stride=(1, 1))\n              (activation): SiLU(inplace=True)\n              (scale_activation): Sigmoid()\n            )\n            (3): ConvNormActivation(\n              (0): Conv2d(672, 112, kernel_size=(1, 1), stride=(1, 1), bias=False)\n              (1): BatchNorm2d(112, eps=1e-05, momentum=0.1, affine=True, track_running_stats=True)\n            )\n          )\n          (stochastic_depth): StochasticDepth(p=0.125, mode=row)\n        )\n      )\n      (6): Sequential(\n        (0): MBConv(\n          (block): Sequential(\n            (0): ConvNormActivation(\n              (0): Conv2d(112, 672, kernel_size=(1, 1), stride=(1, 1), bias=False)\n              (1): BatchNorm2d(672, eps=1e-05, momentum=0.1, affine=True, track_running_stats=True)\n              (2): SiLU(inplace=True)\n            )\n            (1): ConvNormActivation(\n              (0): Conv2d(672, 672, kernel_size=(5, 5), stride=(2, 2), padding=(2, 2), groups=672, bias=False)\n              (1): BatchNorm2d(672, eps=1e-05, momentum=0.1, affine=True, track_running_stats=True)\n              (2): SiLU(inplace=True)\n            )\n            (2): SqueezeExcitation(\n              (avgpool): AdaptiveAvgPool2d(output_size=1)\n              (fc1): Conv2d(672, 28, kernel_size=(1, 1), stride=(1, 1))\n              (fc2): Conv2d(28, 672, kernel_size=(1, 1), stride=(1, 1))\n              (activation): SiLU(inplace=True)\n              (scale_activation): Sigmoid()\n            )\n            (3): ConvNormActivation(\n              (0): Conv2d(672, 192, kernel_size=(1, 1), stride=(1, 1), bias=False)\n              (1): BatchNorm2d(192, eps=1e-05, momentum=0.1, affine=True, track_running_stats=True)\n            )\n          )\n          (stochastic_depth): StochasticDepth(p=0.1375, mode=row)\n        )\n        (1): MBConv(\n          (block): Sequential(\n            (0): ConvNormActivation(\n              (0): Conv2d(192, 1152, kernel_size=(1, 1), stride=(1, 1), bias=False)\n              (1): BatchNorm2d(1152, eps=1e-05, momentum=0.1, affine=True, track_running_stats=True)\n              (2): SiLU(inplace=True)\n            )\n            (1): ConvNormActivation(\n              (0): Conv2d(1152, 1152, kernel_size=(5, 5), stride=(1, 1), padding=(2, 2), groups=1152, bias=False)\n              (1): BatchNorm2d(1152, eps=1e-05, momentum=0.1, affine=True, track_running_stats=True)\n              (2): SiLU(inplace=True)\n            )\n            (2): SqueezeExcitation(\n              (avgpool): AdaptiveAvgPool2d(output_size=1)\n              (fc1): Conv2d(1152, 48, kernel_size=(1, 1), stride=(1, 1))\n              (fc2): Conv2d(48, 1152, kernel_size=(1, 1), stride=(1, 1))\n              (activation): SiLU(inplace=True)\n              (scale_activation): Sigmoid()\n            )\n            (3): ConvNormActivation(\n              (0): Conv2d(1152, 192, kernel_size=(1, 1), stride=(1, 1), bias=False)\n              (1): BatchNorm2d(192, eps=1e-05, momentum=0.1, affine=True, track_running_stats=True)\n            )\n          )\n          (stochastic_depth): StochasticDepth(p=0.15000000000000002, mode=row)\n        )\n        (2): MBConv(\n          (block): Sequential(\n            (0): ConvNormActivation(\n              (0): Conv2d(192, 1152, kernel_size=(1, 1), stride=(1, 1), bias=False)\n              (1): BatchNorm2d(1152, eps=1e-05, momentum=0.1, affine=True, track_running_stats=True)\n              (2): SiLU(inplace=True)\n            )\n            (1): ConvNormActivation(\n              (0): Conv2d(1152, 1152, kernel_size=(5, 5), stride=(1, 1), padding=(2, 2), groups=1152, bias=False)\n              (1): BatchNorm2d(1152, eps=1e-05, momentum=0.1, affine=True, track_running_stats=True)\n              (2): SiLU(inplace=True)\n            )\n            (2): SqueezeExcitation(\n              (avgpool): AdaptiveAvgPool2d(output_size=1)\n              (fc1): Conv2d(1152, 48, kernel_size=(1, 1), stride=(1, 1))\n              (fc2): Conv2d(48, 1152, kernel_size=(1, 1), stride=(1, 1))\n              (activation): SiLU(inplace=True)\n              (scale_activation): Sigmoid()\n            )\n            (3): ConvNormActivation(\n              (0): Conv2d(1152, 192, kernel_size=(1, 1), stride=(1, 1), bias=False)\n              (1): BatchNorm2d(192, eps=1e-05, momentum=0.1, affine=True, track_running_stats=True)\n            )\n          )\n          (stochastic_depth): StochasticDepth(p=0.1625, mode=row)\n        )\n        (3): MBConv(\n          (block): Sequential(\n            (0): ConvNormActivation(\n              (0): Conv2d(192, 1152, kernel_size=(1, 1), stride=(1, 1), bias=False)\n              (1): BatchNorm2d(1152, eps=1e-05, momentum=0.1, affine=True, track_running_stats=True)\n              (2): SiLU(inplace=True)\n            )\n            (1): ConvNormActivation(\n              (0): Conv2d(1152, 1152, kernel_size=(5, 5), stride=(1, 1), padding=(2, 2), groups=1152, bias=False)\n              (1): BatchNorm2d(1152, eps=1e-05, momentum=0.1, affine=True, track_running_stats=True)\n              (2): SiLU(inplace=True)\n            )\n            (2): SqueezeExcitation(\n              (avgpool): AdaptiveAvgPool2d(output_size=1)\n              (fc1): Conv2d(1152, 48, kernel_size=(1, 1), stride=(1, 1))\n              (fc2): Conv2d(48, 1152, kernel_size=(1, 1), stride=(1, 1))\n              (activation): SiLU(inplace=True)\n              (scale_activation): Sigmoid()\n            )\n            (3): ConvNormActivation(\n              (0): Conv2d(1152, 192, kernel_size=(1, 1), stride=(1, 1), bias=False)\n              (1): BatchNorm2d(192, eps=1e-05, momentum=0.1, affine=True, track_running_stats=True)\n            )\n          )\n          (stochastic_depth): StochasticDepth(p=0.17500000000000002, mode=row)\n        )\n      )\n      (7): Sequential(\n        (0): MBConv(\n          (block): Sequential(\n            (0): ConvNormActivation(\n              (0): Conv2d(192, 1152, kernel_size=(1, 1), stride=(1, 1), bias=False)\n              (1): BatchNorm2d(1152, eps=1e-05, momentum=0.1, affine=True, track_running_stats=True)\n              (2): SiLU(inplace=True)\n            )\n            (1): ConvNormActivation(\n              (0): Conv2d(1152, 1152, kernel_size=(3, 3), stride=(1, 1), padding=(1, 1), groups=1152, bias=False)\n              (1): BatchNorm2d(1152, eps=1e-05, momentum=0.1, affine=True, track_running_stats=True)\n              (2): SiLU(inplace=True)\n            )\n            (2): SqueezeExcitation(\n              (avgpool): AdaptiveAvgPool2d(output_size=1)\n              (fc1): Conv2d(1152, 48, kernel_size=(1, 1), stride=(1, 1))\n              (fc2): Conv2d(48, 1152, kernel_size=(1, 1), stride=(1, 1))\n              (activation): SiLU(inplace=True)\n              (scale_activation): Sigmoid()\n            )\n            (3): ConvNormActivation(\n              (0): Conv2d(1152, 320, kernel_size=(1, 1), stride=(1, 1), bias=False)\n              (1): BatchNorm2d(320, eps=1e-05, momentum=0.1, affine=True, track_running_stats=True)\n            )\n          )\n          (stochastic_depth): StochasticDepth(p=0.1875, mode=row)\n        )\n      )\n      (8): ConvNormActivation(\n        (0): Conv2d(320, 1280, kernel_size=(1, 1), stride=(1, 1), bias=False)\n        (1): BatchNorm2d(1280, eps=1e-05, momentum=0.1, affine=True, track_running_stats=True)\n        (2): SiLU(inplace=True)\n      )\n    )\n    (avgpool): AdaptiveAvgPool2d(output_size=1)\n    (classifier): Sequential(\n      (0): Dropout(p=0.2, inplace=True)\n      (1): Linear(in_features=1280, out_features=1000, bias=True)\n    )\n  )\n)"
          },
          "metadata": {}
        }
      ]
    },
    {
      "cell_type": "code",
      "source": [],
      "metadata": {
        "trusted": true,
        "id": "wZ6GpZXfhc0-"
      },
      "execution_count": null,
      "outputs": []
    },
    {
      "cell_type": "code",
      "source": [
        "#replace linear layer of the model\n",
        "\n",
        "prev_params=list(model.module.parameters())\n",
        "\n",
        "model.module.classifier=nn.Sequential(\n",
        "    nn.Dropout(0.2),\n",
        "    nn.Linear(1280, 100))\n",
        "model"
      ],
      "metadata": {
        "execution": {
          "iopub.status.busy": "2023-02-09T05:57:31.362328Z",
          "iopub.execute_input": "2023-02-09T05:57:31.362788Z",
          "iopub.status.idle": "2023-02-09T05:57:31.379231Z",
          "shell.execute_reply.started": "2023-02-09T05:57:31.362745Z",
          "shell.execute_reply": "2023-02-09T05:57:31.377934Z"
        },
        "trusted": true,
        "id": "nXF2iTiThc0-",
        "outputId": "42cdaefa-fc69-48ad-8441-816ac931c556"
      },
      "execution_count": null,
      "outputs": [
        {
          "execution_count": 24,
          "output_type": "execute_result",
          "data": {
            "text/plain": "DataParallel(\n  (module): EfficientNet(\n    (features): Sequential(\n      (0): ConvNormActivation(\n        (0): Conv2d(3, 32, kernel_size=(3, 3), stride=(2, 2), padding=(1, 1), bias=False)\n        (1): BatchNorm2d(32, eps=1e-05, momentum=0.1, affine=True, track_running_stats=True)\n        (2): SiLU(inplace=True)\n      )\n      (1): Sequential(\n        (0): MBConv(\n          (block): Sequential(\n            (0): ConvNormActivation(\n              (0): Conv2d(32, 32, kernel_size=(3, 3), stride=(1, 1), padding=(1, 1), groups=32, bias=False)\n              (1): BatchNorm2d(32, eps=1e-05, momentum=0.1, affine=True, track_running_stats=True)\n              (2): SiLU(inplace=True)\n            )\n            (1): SqueezeExcitation(\n              (avgpool): AdaptiveAvgPool2d(output_size=1)\n              (fc1): Conv2d(32, 8, kernel_size=(1, 1), stride=(1, 1))\n              (fc2): Conv2d(8, 32, kernel_size=(1, 1), stride=(1, 1))\n              (activation): SiLU(inplace=True)\n              (scale_activation): Sigmoid()\n            )\n            (2): ConvNormActivation(\n              (0): Conv2d(32, 16, kernel_size=(1, 1), stride=(1, 1), bias=False)\n              (1): BatchNorm2d(16, eps=1e-05, momentum=0.1, affine=True, track_running_stats=True)\n            )\n          )\n          (stochastic_depth): StochasticDepth(p=0.0, mode=row)\n        )\n      )\n      (2): Sequential(\n        (0): MBConv(\n          (block): Sequential(\n            (0): ConvNormActivation(\n              (0): Conv2d(16, 96, kernel_size=(1, 1), stride=(1, 1), bias=False)\n              (1): BatchNorm2d(96, eps=1e-05, momentum=0.1, affine=True, track_running_stats=True)\n              (2): SiLU(inplace=True)\n            )\n            (1): ConvNormActivation(\n              (0): Conv2d(96, 96, kernel_size=(3, 3), stride=(2, 2), padding=(1, 1), groups=96, bias=False)\n              (1): BatchNorm2d(96, eps=1e-05, momentum=0.1, affine=True, track_running_stats=True)\n              (2): SiLU(inplace=True)\n            )\n            (2): SqueezeExcitation(\n              (avgpool): AdaptiveAvgPool2d(output_size=1)\n              (fc1): Conv2d(96, 4, kernel_size=(1, 1), stride=(1, 1))\n              (fc2): Conv2d(4, 96, kernel_size=(1, 1), stride=(1, 1))\n              (activation): SiLU(inplace=True)\n              (scale_activation): Sigmoid()\n            )\n            (3): ConvNormActivation(\n              (0): Conv2d(96, 24, kernel_size=(1, 1), stride=(1, 1), bias=False)\n              (1): BatchNorm2d(24, eps=1e-05, momentum=0.1, affine=True, track_running_stats=True)\n            )\n          )\n          (stochastic_depth): StochasticDepth(p=0.0125, mode=row)\n        )\n        (1): MBConv(\n          (block): Sequential(\n            (0): ConvNormActivation(\n              (0): Conv2d(24, 144, kernel_size=(1, 1), stride=(1, 1), bias=False)\n              (1): BatchNorm2d(144, eps=1e-05, momentum=0.1, affine=True, track_running_stats=True)\n              (2): SiLU(inplace=True)\n            )\n            (1): ConvNormActivation(\n              (0): Conv2d(144, 144, kernel_size=(3, 3), stride=(1, 1), padding=(1, 1), groups=144, bias=False)\n              (1): BatchNorm2d(144, eps=1e-05, momentum=0.1, affine=True, track_running_stats=True)\n              (2): SiLU(inplace=True)\n            )\n            (2): SqueezeExcitation(\n              (avgpool): AdaptiveAvgPool2d(output_size=1)\n              (fc1): Conv2d(144, 6, kernel_size=(1, 1), stride=(1, 1))\n              (fc2): Conv2d(6, 144, kernel_size=(1, 1), stride=(1, 1))\n              (activation): SiLU(inplace=True)\n              (scale_activation): Sigmoid()\n            )\n            (3): ConvNormActivation(\n              (0): Conv2d(144, 24, kernel_size=(1, 1), stride=(1, 1), bias=False)\n              (1): BatchNorm2d(24, eps=1e-05, momentum=0.1, affine=True, track_running_stats=True)\n            )\n          )\n          (stochastic_depth): StochasticDepth(p=0.025, mode=row)\n        )\n      )\n      (3): Sequential(\n        (0): MBConv(\n          (block): Sequential(\n            (0): ConvNormActivation(\n              (0): Conv2d(24, 144, kernel_size=(1, 1), stride=(1, 1), bias=False)\n              (1): BatchNorm2d(144, eps=1e-05, momentum=0.1, affine=True, track_running_stats=True)\n              (2): SiLU(inplace=True)\n            )\n            (1): ConvNormActivation(\n              (0): Conv2d(144, 144, kernel_size=(5, 5), stride=(2, 2), padding=(2, 2), groups=144, bias=False)\n              (1): BatchNorm2d(144, eps=1e-05, momentum=0.1, affine=True, track_running_stats=True)\n              (2): SiLU(inplace=True)\n            )\n            (2): SqueezeExcitation(\n              (avgpool): AdaptiveAvgPool2d(output_size=1)\n              (fc1): Conv2d(144, 6, kernel_size=(1, 1), stride=(1, 1))\n              (fc2): Conv2d(6, 144, kernel_size=(1, 1), stride=(1, 1))\n              (activation): SiLU(inplace=True)\n              (scale_activation): Sigmoid()\n            )\n            (3): ConvNormActivation(\n              (0): Conv2d(144, 40, kernel_size=(1, 1), stride=(1, 1), bias=False)\n              (1): BatchNorm2d(40, eps=1e-05, momentum=0.1, affine=True, track_running_stats=True)\n            )\n          )\n          (stochastic_depth): StochasticDepth(p=0.037500000000000006, mode=row)\n        )\n        (1): MBConv(\n          (block): Sequential(\n            (0): ConvNormActivation(\n              (0): Conv2d(40, 240, kernel_size=(1, 1), stride=(1, 1), bias=False)\n              (1): BatchNorm2d(240, eps=1e-05, momentum=0.1, affine=True, track_running_stats=True)\n              (2): SiLU(inplace=True)\n            )\n            (1): ConvNormActivation(\n              (0): Conv2d(240, 240, kernel_size=(5, 5), stride=(1, 1), padding=(2, 2), groups=240, bias=False)\n              (1): BatchNorm2d(240, eps=1e-05, momentum=0.1, affine=True, track_running_stats=True)\n              (2): SiLU(inplace=True)\n            )\n            (2): SqueezeExcitation(\n              (avgpool): AdaptiveAvgPool2d(output_size=1)\n              (fc1): Conv2d(240, 10, kernel_size=(1, 1), stride=(1, 1))\n              (fc2): Conv2d(10, 240, kernel_size=(1, 1), stride=(1, 1))\n              (activation): SiLU(inplace=True)\n              (scale_activation): Sigmoid()\n            )\n            (3): ConvNormActivation(\n              (0): Conv2d(240, 40, kernel_size=(1, 1), stride=(1, 1), bias=False)\n              (1): BatchNorm2d(40, eps=1e-05, momentum=0.1, affine=True, track_running_stats=True)\n            )\n          )\n          (stochastic_depth): StochasticDepth(p=0.05, mode=row)\n        )\n      )\n      (4): Sequential(\n        (0): MBConv(\n          (block): Sequential(\n            (0): ConvNormActivation(\n              (0): Conv2d(40, 240, kernel_size=(1, 1), stride=(1, 1), bias=False)\n              (1): BatchNorm2d(240, eps=1e-05, momentum=0.1, affine=True, track_running_stats=True)\n              (2): SiLU(inplace=True)\n            )\n            (1): ConvNormActivation(\n              (0): Conv2d(240, 240, kernel_size=(3, 3), stride=(2, 2), padding=(1, 1), groups=240, bias=False)\n              (1): BatchNorm2d(240, eps=1e-05, momentum=0.1, affine=True, track_running_stats=True)\n              (2): SiLU(inplace=True)\n            )\n            (2): SqueezeExcitation(\n              (avgpool): AdaptiveAvgPool2d(output_size=1)\n              (fc1): Conv2d(240, 10, kernel_size=(1, 1), stride=(1, 1))\n              (fc2): Conv2d(10, 240, kernel_size=(1, 1), stride=(1, 1))\n              (activation): SiLU(inplace=True)\n              (scale_activation): Sigmoid()\n            )\n            (3): ConvNormActivation(\n              (0): Conv2d(240, 80, kernel_size=(1, 1), stride=(1, 1), bias=False)\n              (1): BatchNorm2d(80, eps=1e-05, momentum=0.1, affine=True, track_running_stats=True)\n            )\n          )\n          (stochastic_depth): StochasticDepth(p=0.0625, mode=row)\n        )\n        (1): MBConv(\n          (block): Sequential(\n            (0): ConvNormActivation(\n              (0): Conv2d(80, 480, kernel_size=(1, 1), stride=(1, 1), bias=False)\n              (1): BatchNorm2d(480, eps=1e-05, momentum=0.1, affine=True, track_running_stats=True)\n              (2): SiLU(inplace=True)\n            )\n            (1): ConvNormActivation(\n              (0): Conv2d(480, 480, kernel_size=(3, 3), stride=(1, 1), padding=(1, 1), groups=480, bias=False)\n              (1): BatchNorm2d(480, eps=1e-05, momentum=0.1, affine=True, track_running_stats=True)\n              (2): SiLU(inplace=True)\n            )\n            (2): SqueezeExcitation(\n              (avgpool): AdaptiveAvgPool2d(output_size=1)\n              (fc1): Conv2d(480, 20, kernel_size=(1, 1), stride=(1, 1))\n              (fc2): Conv2d(20, 480, kernel_size=(1, 1), stride=(1, 1))\n              (activation): SiLU(inplace=True)\n              (scale_activation): Sigmoid()\n            )\n            (3): ConvNormActivation(\n              (0): Conv2d(480, 80, kernel_size=(1, 1), stride=(1, 1), bias=False)\n              (1): BatchNorm2d(80, eps=1e-05, momentum=0.1, affine=True, track_running_stats=True)\n            )\n          )\n          (stochastic_depth): StochasticDepth(p=0.07500000000000001, mode=row)\n        )\n        (2): MBConv(\n          (block): Sequential(\n            (0): ConvNormActivation(\n              (0): Conv2d(80, 480, kernel_size=(1, 1), stride=(1, 1), bias=False)\n              (1): BatchNorm2d(480, eps=1e-05, momentum=0.1, affine=True, track_running_stats=True)\n              (2): SiLU(inplace=True)\n            )\n            (1): ConvNormActivation(\n              (0): Conv2d(480, 480, kernel_size=(3, 3), stride=(1, 1), padding=(1, 1), groups=480, bias=False)\n              (1): BatchNorm2d(480, eps=1e-05, momentum=0.1, affine=True, track_running_stats=True)\n              (2): SiLU(inplace=True)\n            )\n            (2): SqueezeExcitation(\n              (avgpool): AdaptiveAvgPool2d(output_size=1)\n              (fc1): Conv2d(480, 20, kernel_size=(1, 1), stride=(1, 1))\n              (fc2): Conv2d(20, 480, kernel_size=(1, 1), stride=(1, 1))\n              (activation): SiLU(inplace=True)\n              (scale_activation): Sigmoid()\n            )\n            (3): ConvNormActivation(\n              (0): Conv2d(480, 80, kernel_size=(1, 1), stride=(1, 1), bias=False)\n              (1): BatchNorm2d(80, eps=1e-05, momentum=0.1, affine=True, track_running_stats=True)\n            )\n          )\n          (stochastic_depth): StochasticDepth(p=0.08750000000000001, mode=row)\n        )\n      )\n      (5): Sequential(\n        (0): MBConv(\n          (block): Sequential(\n            (0): ConvNormActivation(\n              (0): Conv2d(80, 480, kernel_size=(1, 1), stride=(1, 1), bias=False)\n              (1): BatchNorm2d(480, eps=1e-05, momentum=0.1, affine=True, track_running_stats=True)\n              (2): SiLU(inplace=True)\n            )\n            (1): ConvNormActivation(\n              (0): Conv2d(480, 480, kernel_size=(5, 5), stride=(1, 1), padding=(2, 2), groups=480, bias=False)\n              (1): BatchNorm2d(480, eps=1e-05, momentum=0.1, affine=True, track_running_stats=True)\n              (2): SiLU(inplace=True)\n            )\n            (2): SqueezeExcitation(\n              (avgpool): AdaptiveAvgPool2d(output_size=1)\n              (fc1): Conv2d(480, 20, kernel_size=(1, 1), stride=(1, 1))\n              (fc2): Conv2d(20, 480, kernel_size=(1, 1), stride=(1, 1))\n              (activation): SiLU(inplace=True)\n              (scale_activation): Sigmoid()\n            )\n            (3): ConvNormActivation(\n              (0): Conv2d(480, 112, kernel_size=(1, 1), stride=(1, 1), bias=False)\n              (1): BatchNorm2d(112, eps=1e-05, momentum=0.1, affine=True, track_running_stats=True)\n            )\n          )\n          (stochastic_depth): StochasticDepth(p=0.1, mode=row)\n        )\n        (1): MBConv(\n          (block): Sequential(\n            (0): ConvNormActivation(\n              (0): Conv2d(112, 672, kernel_size=(1, 1), stride=(1, 1), bias=False)\n              (1): BatchNorm2d(672, eps=1e-05, momentum=0.1, affine=True, track_running_stats=True)\n              (2): SiLU(inplace=True)\n            )\n            (1): ConvNormActivation(\n              (0): Conv2d(672, 672, kernel_size=(5, 5), stride=(1, 1), padding=(2, 2), groups=672, bias=False)\n              (1): BatchNorm2d(672, eps=1e-05, momentum=0.1, affine=True, track_running_stats=True)\n              (2): SiLU(inplace=True)\n            )\n            (2): SqueezeExcitation(\n              (avgpool): AdaptiveAvgPool2d(output_size=1)\n              (fc1): Conv2d(672, 28, kernel_size=(1, 1), stride=(1, 1))\n              (fc2): Conv2d(28, 672, kernel_size=(1, 1), stride=(1, 1))\n              (activation): SiLU(inplace=True)\n              (scale_activation): Sigmoid()\n            )\n            (3): ConvNormActivation(\n              (0): Conv2d(672, 112, kernel_size=(1, 1), stride=(1, 1), bias=False)\n              (1): BatchNorm2d(112, eps=1e-05, momentum=0.1, affine=True, track_running_stats=True)\n            )\n          )\n          (stochastic_depth): StochasticDepth(p=0.1125, mode=row)\n        )\n        (2): MBConv(\n          (block): Sequential(\n            (0): ConvNormActivation(\n              (0): Conv2d(112, 672, kernel_size=(1, 1), stride=(1, 1), bias=False)\n              (1): BatchNorm2d(672, eps=1e-05, momentum=0.1, affine=True, track_running_stats=True)\n              (2): SiLU(inplace=True)\n            )\n            (1): ConvNormActivation(\n              (0): Conv2d(672, 672, kernel_size=(5, 5), stride=(1, 1), padding=(2, 2), groups=672, bias=False)\n              (1): BatchNorm2d(672, eps=1e-05, momentum=0.1, affine=True, track_running_stats=True)\n              (2): SiLU(inplace=True)\n            )\n            (2): SqueezeExcitation(\n              (avgpool): AdaptiveAvgPool2d(output_size=1)\n              (fc1): Conv2d(672, 28, kernel_size=(1, 1), stride=(1, 1))\n              (fc2): Conv2d(28, 672, kernel_size=(1, 1), stride=(1, 1))\n              (activation): SiLU(inplace=True)\n              (scale_activation): Sigmoid()\n            )\n            (3): ConvNormActivation(\n              (0): Conv2d(672, 112, kernel_size=(1, 1), stride=(1, 1), bias=False)\n              (1): BatchNorm2d(112, eps=1e-05, momentum=0.1, affine=True, track_running_stats=True)\n            )\n          )\n          (stochastic_depth): StochasticDepth(p=0.125, mode=row)\n        )\n      )\n      (6): Sequential(\n        (0): MBConv(\n          (block): Sequential(\n            (0): ConvNormActivation(\n              (0): Conv2d(112, 672, kernel_size=(1, 1), stride=(1, 1), bias=False)\n              (1): BatchNorm2d(672, eps=1e-05, momentum=0.1, affine=True, track_running_stats=True)\n              (2): SiLU(inplace=True)\n            )\n            (1): ConvNormActivation(\n              (0): Conv2d(672, 672, kernel_size=(5, 5), stride=(2, 2), padding=(2, 2), groups=672, bias=False)\n              (1): BatchNorm2d(672, eps=1e-05, momentum=0.1, affine=True, track_running_stats=True)\n              (2): SiLU(inplace=True)\n            )\n            (2): SqueezeExcitation(\n              (avgpool): AdaptiveAvgPool2d(output_size=1)\n              (fc1): Conv2d(672, 28, kernel_size=(1, 1), stride=(1, 1))\n              (fc2): Conv2d(28, 672, kernel_size=(1, 1), stride=(1, 1))\n              (activation): SiLU(inplace=True)\n              (scale_activation): Sigmoid()\n            )\n            (3): ConvNormActivation(\n              (0): Conv2d(672, 192, kernel_size=(1, 1), stride=(1, 1), bias=False)\n              (1): BatchNorm2d(192, eps=1e-05, momentum=0.1, affine=True, track_running_stats=True)\n            )\n          )\n          (stochastic_depth): StochasticDepth(p=0.1375, mode=row)\n        )\n        (1): MBConv(\n          (block): Sequential(\n            (0): ConvNormActivation(\n              (0): Conv2d(192, 1152, kernel_size=(1, 1), stride=(1, 1), bias=False)\n              (1): BatchNorm2d(1152, eps=1e-05, momentum=0.1, affine=True, track_running_stats=True)\n              (2): SiLU(inplace=True)\n            )\n            (1): ConvNormActivation(\n              (0): Conv2d(1152, 1152, kernel_size=(5, 5), stride=(1, 1), padding=(2, 2), groups=1152, bias=False)\n              (1): BatchNorm2d(1152, eps=1e-05, momentum=0.1, affine=True, track_running_stats=True)\n              (2): SiLU(inplace=True)\n            )\n            (2): SqueezeExcitation(\n              (avgpool): AdaptiveAvgPool2d(output_size=1)\n              (fc1): Conv2d(1152, 48, kernel_size=(1, 1), stride=(1, 1))\n              (fc2): Conv2d(48, 1152, kernel_size=(1, 1), stride=(1, 1))\n              (activation): SiLU(inplace=True)\n              (scale_activation): Sigmoid()\n            )\n            (3): ConvNormActivation(\n              (0): Conv2d(1152, 192, kernel_size=(1, 1), stride=(1, 1), bias=False)\n              (1): BatchNorm2d(192, eps=1e-05, momentum=0.1, affine=True, track_running_stats=True)\n            )\n          )\n          (stochastic_depth): StochasticDepth(p=0.15000000000000002, mode=row)\n        )\n        (2): MBConv(\n          (block): Sequential(\n            (0): ConvNormActivation(\n              (0): Conv2d(192, 1152, kernel_size=(1, 1), stride=(1, 1), bias=False)\n              (1): BatchNorm2d(1152, eps=1e-05, momentum=0.1, affine=True, track_running_stats=True)\n              (2): SiLU(inplace=True)\n            )\n            (1): ConvNormActivation(\n              (0): Conv2d(1152, 1152, kernel_size=(5, 5), stride=(1, 1), padding=(2, 2), groups=1152, bias=False)\n              (1): BatchNorm2d(1152, eps=1e-05, momentum=0.1, affine=True, track_running_stats=True)\n              (2): SiLU(inplace=True)\n            )\n            (2): SqueezeExcitation(\n              (avgpool): AdaptiveAvgPool2d(output_size=1)\n              (fc1): Conv2d(1152, 48, kernel_size=(1, 1), stride=(1, 1))\n              (fc2): Conv2d(48, 1152, kernel_size=(1, 1), stride=(1, 1))\n              (activation): SiLU(inplace=True)\n              (scale_activation): Sigmoid()\n            )\n            (3): ConvNormActivation(\n              (0): Conv2d(1152, 192, kernel_size=(1, 1), stride=(1, 1), bias=False)\n              (1): BatchNorm2d(192, eps=1e-05, momentum=0.1, affine=True, track_running_stats=True)\n            )\n          )\n          (stochastic_depth): StochasticDepth(p=0.1625, mode=row)\n        )\n        (3): MBConv(\n          (block): Sequential(\n            (0): ConvNormActivation(\n              (0): Conv2d(192, 1152, kernel_size=(1, 1), stride=(1, 1), bias=False)\n              (1): BatchNorm2d(1152, eps=1e-05, momentum=0.1, affine=True, track_running_stats=True)\n              (2): SiLU(inplace=True)\n            )\n            (1): ConvNormActivation(\n              (0): Conv2d(1152, 1152, kernel_size=(5, 5), stride=(1, 1), padding=(2, 2), groups=1152, bias=False)\n              (1): BatchNorm2d(1152, eps=1e-05, momentum=0.1, affine=True, track_running_stats=True)\n              (2): SiLU(inplace=True)\n            )\n            (2): SqueezeExcitation(\n              (avgpool): AdaptiveAvgPool2d(output_size=1)\n              (fc1): Conv2d(1152, 48, kernel_size=(1, 1), stride=(1, 1))\n              (fc2): Conv2d(48, 1152, kernel_size=(1, 1), stride=(1, 1))\n              (activation): SiLU(inplace=True)\n              (scale_activation): Sigmoid()\n            )\n            (3): ConvNormActivation(\n              (0): Conv2d(1152, 192, kernel_size=(1, 1), stride=(1, 1), bias=False)\n              (1): BatchNorm2d(192, eps=1e-05, momentum=0.1, affine=True, track_running_stats=True)\n            )\n          )\n          (stochastic_depth): StochasticDepth(p=0.17500000000000002, mode=row)\n        )\n      )\n      (7): Sequential(\n        (0): MBConv(\n          (block): Sequential(\n            (0): ConvNormActivation(\n              (0): Conv2d(192, 1152, kernel_size=(1, 1), stride=(1, 1), bias=False)\n              (1): BatchNorm2d(1152, eps=1e-05, momentum=0.1, affine=True, track_running_stats=True)\n              (2): SiLU(inplace=True)\n            )\n            (1): ConvNormActivation(\n              (0): Conv2d(1152, 1152, kernel_size=(3, 3), stride=(1, 1), padding=(1, 1), groups=1152, bias=False)\n              (1): BatchNorm2d(1152, eps=1e-05, momentum=0.1, affine=True, track_running_stats=True)\n              (2): SiLU(inplace=True)\n            )\n            (2): SqueezeExcitation(\n              (avgpool): AdaptiveAvgPool2d(output_size=1)\n              (fc1): Conv2d(1152, 48, kernel_size=(1, 1), stride=(1, 1))\n              (fc2): Conv2d(48, 1152, kernel_size=(1, 1), stride=(1, 1))\n              (activation): SiLU(inplace=True)\n              (scale_activation): Sigmoid()\n            )\n            (3): ConvNormActivation(\n              (0): Conv2d(1152, 320, kernel_size=(1, 1), stride=(1, 1), bias=False)\n              (1): BatchNorm2d(320, eps=1e-05, momentum=0.1, affine=True, track_running_stats=True)\n            )\n          )\n          (stochastic_depth): StochasticDepth(p=0.1875, mode=row)\n        )\n      )\n      (8): ConvNormActivation(\n        (0): Conv2d(320, 1280, kernel_size=(1, 1), stride=(1, 1), bias=False)\n        (1): BatchNorm2d(1280, eps=1e-05, momentum=0.1, affine=True, track_running_stats=True)\n        (2): SiLU(inplace=True)\n      )\n    )\n    (avgpool): AdaptiveAvgPool2d(output_size=1)\n    (classifier): Sequential(\n      (0): Dropout(p=0.2, inplace=False)\n      (1): Linear(in_features=1280, out_features=100, bias=True)\n    )\n  )\n)"
          },
          "metadata": {}
        }
      ]
    },
    {
      "cell_type": "code",
      "source": [
        "model = model.to(device)\n",
        "criterion = nn.CrossEntropyLoss()\n",
        "optimizer = torch.optim.Adam(model.parameters(),lr = learning_rate)"
      ],
      "metadata": {
        "execution": {
          "iopub.status.busy": "2023-02-09T05:57:31.380877Z",
          "iopub.execute_input": "2023-02-09T05:57:31.381407Z",
          "iopub.status.idle": "2023-02-09T05:57:31.412037Z",
          "shell.execute_reply.started": "2023-02-09T05:57:31.381370Z",
          "shell.execute_reply": "2023-02-09T05:57:31.410524Z"
        },
        "trusted": true,
        "id": "dfZ5jco8hc0-"
      },
      "execution_count": null,
      "outputs": []
    },
    {
      "cell_type": "code",
      "source": [
        "%%time\n",
        "# keeping-track-of-losses \n",
        "train_losses = []\n",
        "valid_losses = []\n",
        "\n",
        "for epoch in range(1, num_epochs + 1):\n",
        "    # keep-track-of-training-and-validation-loss\n",
        "    train_loss = 0.0\n",
        "    valid_loss = 0.0\n",
        "    \n",
        "    # training-the-model\n",
        "    model.train()\n",
        "    for data, target in train_loader:\n",
        "        # move-tensors-to-GPU \n",
        "        data = data.to(device)\n",
        "        target = target.to(device)\n",
        "        \n",
        "        # clear-the-gradients-of-all-optimized-variables\n",
        "        optimizer.zero_grad()\n",
        "        # forward-pass: compute-predicted-outputs-by-passing-inputs-to-the-model\n",
        "        output = model(data)\n",
        "        # calculate-the-batch-loss\n",
        "        loss = criterion(output, target)\n",
        "        # backward-pass: compute-gradient-of-the-loss-wrt-model-parameters\n",
        "        loss.backward()\n",
        "        # perform-a-ingle-optimization-step (parameter-update)\n",
        "        optimizer.step()\n",
        "        # update-training-loss\n",
        "        train_loss += loss.item()\n",
        "        \n",
        "    # validate-the-model\n",
        "    model.eval()\n",
        "    for data, target in valid_loader:\n",
        "        \n",
        "        data = data.to(device)\n",
        "        target = target.to(device)\n",
        "        \n",
        "        output = model(data)\n",
        "        \n",
        "        loss = criterion(output, target)\n",
        "        \n",
        "        # update-average-validation-loss \n",
        "        valid_loss += loss.item()\n",
        "        \n",
        "    # calculate-average-losses\n",
        "    train_loss = train_loss/len(train_loader.dataset)\n",
        "    valid_loss = valid_loss/len(valid_loader.dataset)\n",
        "    train_losses.append(train_loss)\n",
        "    valid_losses.append(valid_loss)\n",
        "        \n",
        "    # print-training/validation-statistics \n",
        "    print('Epoch: {} \\tTraining Loss: {:.6f} \\tValidation Loss: {:.6f}'.format(\n",
        "        epoch, train_loss, valid_loss))"
      ],
      "metadata": {
        "execution": {
          "iopub.status.busy": "2023-02-09T05:57:31.413942Z",
          "iopub.execute_input": "2023-02-09T05:57:31.414368Z",
          "iopub.status.idle": "2023-02-09T15:44:18.197787Z",
          "shell.execute_reply.started": "2023-02-09T05:57:31.414318Z",
          "shell.execute_reply": "2023-02-09T15:44:18.193432Z"
        },
        "trusted": true,
        "id": "EV4T1KIDhc0-",
        "outputId": "e527d947-79b4-4026-8a7c-5177848fd5ab"
      },
      "execution_count": null,
      "outputs": [
        {
          "name": "stdout",
          "text": "Epoch: 1 \tTraining Loss: 0.069314 \tValidation Loss: 0.041102\nEpoch: 2 \tTraining Loss: 0.027539 \tValidation Loss: 0.026258\nEpoch: 3 \tTraining Loss: 0.017881 \tValidation Loss: 0.018527\nEpoch: 4 \tTraining Loss: 0.013147 \tValidation Loss: 0.013354\nEpoch: 5 \tTraining Loss: 0.010621 \tValidation Loss: 0.017019\nEpoch: 6 \tTraining Loss: 0.009261 \tValidation Loss: 0.013071\nEpoch: 7 \tTraining Loss: 0.007605 \tValidation Loss: 0.014270\nEpoch: 8 \tTraining Loss: 0.007125 \tValidation Loss: 0.012259\nEpoch: 9 \tTraining Loss: 0.006246 \tValidation Loss: 0.011451\nEpoch: 10 \tTraining Loss: 0.005930 \tValidation Loss: 0.010342\nEpoch: 11 \tTraining Loss: 0.005467 \tValidation Loss: 0.010663\nEpoch: 12 \tTraining Loss: 0.004857 \tValidation Loss: 0.009998\nCPU times: user 18h 23min 14s, sys: 18min 51s, total: 18h 42min 5s\nWall time: 9h 46min 46s\n",
          "output_type": "stream"
        }
      ]
    },
    {
      "cell_type": "code",
      "source": [
        "# test-the-model\n",
        "model.eval()  # it-disables-dropout\n",
        "with torch.no_grad():\n",
        "    correct = 0\n",
        "    total = 0\n",
        "    for images, labels in valid_loader:\n",
        "        images = images.to(device)\n",
        "        labels = labels.to(device)\n",
        "        outputs = model(images)\n",
        "        _, predicted = torch.max(outputs.data, 1)\n",
        "        total += labels.size(0)\n",
        "        correct += (predicted == labels).sum().item()\n",
        "          \n",
        "    print('Test Accuracy of the model: {} %'.format(100 * correct / total))\n",
        "\n",
        "# Save \n",
        "torch.save(model.state_dict(), 'last_state.pth')"
      ],
      "metadata": {
        "execution": {
          "iopub.status.busy": "2023-02-09T15:44:18.209850Z",
          "iopub.execute_input": "2023-02-09T15:44:18.210699Z",
          "iopub.status.idle": "2023-02-09T15:46:40.357124Z",
          "shell.execute_reply.started": "2023-02-09T15:44:18.210631Z",
          "shell.execute_reply": "2023-02-09T15:46:40.355578Z"
        },
        "trusted": true,
        "id": "Gid3Gxkmhc0-",
        "outputId": "93c06434-3bef-4386-e762-e3f16ed35fa9"
      },
      "execution_count": null,
      "outputs": [
        {
          "name": "stdout",
          "text": "Test Accuracy of the model: 91.44144144144144 %\n",
          "output_type": "stream"
        }
      ]
    },
    {
      "cell_type": "code",
      "source": [
        "%matplotlib inline\n",
        "%config InlineBackend.figure_format = 'retina'\n",
        "\n",
        "plt.plot(train_losses, label='Training loss')\n",
        "plt.plot(valid_losses, label='Validation loss')\n",
        "plt.xlabel(\"Epochs\")\n",
        "plt.ylabel(\"Loss\")\n",
        "plt.legend(frameon=False)"
      ],
      "metadata": {
        "execution": {
          "iopub.status.busy": "2023-02-09T15:46:40.366811Z",
          "iopub.execute_input": "2023-02-09T15:46:40.367229Z",
          "iopub.status.idle": "2023-02-09T15:46:40.813451Z",
          "shell.execute_reply.started": "2023-02-09T15:46:40.367194Z",
          "shell.execute_reply": "2023-02-09T15:46:40.812017Z"
        },
        "trusted": true,
        "id": "frNjsU3Zhc0-",
        "outputId": "9c91bae5-0457-48cf-e50b-74be0658b4e1"
      },
      "execution_count": null,
      "outputs": [
        {
          "execution_count": 28,
          "output_type": "execute_result",
          "data": {
            "text/plain": "<matplotlib.legend.Legend at 0x7f82a4569890>"
          },
          "metadata": {}
        },
        {
          "output_type": "display_data",
          "data": {
            "text/plain": "<Figure size 432x288 with 1 Axes>",
            "image/png": "[encoded data removed]"
          },
          "metadata": {
            "image/png": {
              "width": 391,
              "height": 261
            },
            "needs_background": "light"
          }
        }
      ]
    },
    {
      "cell_type": "code",
      "source": [
        "state_dict = torch.load('last_state.pth')\n",
        "model.load_state_dict(state_dict)"
      ],
      "metadata": {
        "execution": {
          "iopub.status.busy": "2023-02-09T15:46:40.815285Z",
          "iopub.execute_input": "2023-02-09T15:46:40.816464Z",
          "iopub.status.idle": "2023-02-09T15:46:40.910511Z",
          "shell.execute_reply.started": "2023-02-09T15:46:40.816422Z",
          "shell.execute_reply": "2023-02-09T15:46:40.909358Z"
        },
        "trusted": true,
        "id": "4hUREnuPhc0_",
        "outputId": "95ae833c-01b2-4a3c-bb84-80567932437e"
      },
      "execution_count": null,
      "outputs": [
        {
          "execution_count": 29,
          "output_type": "execute_result",
          "data": {
            "text/plain": "<All keys matched successfully>"
          },
          "metadata": {}
        }
      ]
    },
    {
      "cell_type": "code",
      "source": [
        "test_df=pd.read_csv('/kaggle/input/sorghum-id-fgvc-9/sample_submission.csv').drop(columns=\"cultivar\")\n",
        "test_df"
      ],
      "metadata": {
        "execution": {
          "iopub.status.busy": "2023-02-09T15:46:40.912405Z",
          "iopub.execute_input": "2023-02-09T15:46:40.913397Z",
          "iopub.status.idle": "2023-02-09T15:46:41.030068Z",
          "shell.execute_reply.started": "2023-02-09T15:46:40.913348Z",
          "shell.execute_reply": "2023-02-09T15:46:41.028839Z"
        },
        "trusted": true,
        "id": "44gpKWR0hc0_",
        "outputId": "263cc653-cf33-49c0-d40d-31c261b4e251"
      },
      "execution_count": null,
      "outputs": [
        {
          "execution_count": 30,
          "output_type": "execute_result",
          "data": {
            "text/plain": "             filename\n0      1000005362.png\n1      1000099707.png\n2      1000135300.png\n3      1000136796.png\n4      1000292439.png\n...               ...\n23634   999578153.png\n23635   999692877.png\n23636   999756998.png\n23637   999892248.png\n23638   999945922.png\n\n[23639 rows x 1 columns]",
            "text/html": "<div>\n<style scoped>\n    .dataframe tbody tr th:only-of-type {\n        vertical-align: middle;\n    }\n\n    .dataframe tbody tr th {\n        vertical-align: top;\n    }\n\n    .dataframe thead th {\n        text-align: right;\n    }\n</style>\n<table border=\"1\" class=\"dataframe\">\n  <thead>\n    <tr style=\"text-align: right;\">\n      <th></th>\n      <th>filename</th>\n    </tr>\n  </thead>\n  <tbody>\n    <tr>\n      <th>0</th>\n      <td>1000005362.png</td>\n    </tr>\n    <tr>\n      <th>1</th>\n      <td>1000099707.png</td>\n    </tr>\n    <tr>\n      <th>2</th>\n      <td>1000135300.png</td>\n    </tr>\n    <tr>\n      <th>3</th>\n      <td>1000136796.png</td>\n    </tr>\n    <tr>\n      <th>4</th>\n      <td>1000292439.png</td>\n    </tr>\n    <tr>\n      <th>...</th>\n      <td>...</td>\n    </tr>\n    <tr>\n      <th>23634</th>\n      <td>999578153.png</td>\n    </tr>\n    <tr>\n      <th>23635</th>\n      <td>999692877.png</td>\n    </tr>\n    <tr>\n      <th>23636</th>\n      <td>999756998.png</td>\n    </tr>\n    <tr>\n      <th>23637</th>\n      <td>999892248.png</td>\n    </tr>\n    <tr>\n      <th>23638</th>\n      <td>999945922.png</td>\n    </tr>\n  </tbody>\n</table>\n<p>23639 rows × 1 columns</p>\n</div>"
          },
          "metadata": {}
        }
      ]
    },
    {
      "cell_type": "code",
      "source": [
        "#Custom dataset for test data\n",
        "class SorghumTest(Dataset):\n",
        "    def __init__(self, test_path, test_df, transform):\n",
        "        super().__init__()\n",
        "        self.test_df = test_df\n",
        "        self.test_path = test_path\n",
        "        self.transform = transform\n",
        "\n",
        "    def __len__(self):\n",
        "        return len(self.test_df)\n",
        "    \n",
        "    def __getitem__(self, index):\n",
        "        img_name = self.test_df.filename[index]\n",
        "\n",
        "        img_path = os.path.join(self.test_path, img_name)   \n",
        "            \n",
        "        image = io.imread(img_path)\n",
        "        \n",
        "        image = self.transform(image)\n",
        "        \n",
        "        return image"
      ],
      "metadata": {
        "execution": {
          "iopub.status.busy": "2023-02-09T15:46:41.031644Z",
          "iopub.execute_input": "2023-02-09T15:46:41.031962Z",
          "iopub.status.idle": "2023-02-09T15:46:41.039081Z",
          "shell.execute_reply.started": "2023-02-09T15:46:41.031934Z",
          "shell.execute_reply": "2023-02-09T15:46:41.037999Z"
        },
        "trusted": true,
        "id": "OwgKv_HKhc0_"
      },
      "execution_count": null,
      "outputs": []
    },
    {
      "cell_type": "code",
      "source": [
        "test_transform =transforms.Compose([\n",
        "                                    transforms.ToPILImage(),\n",
        "                                    transforms.Resize(256),\n",
        "                                    transforms.CenterCrop(224),\n",
        "                                    transforms.ToTensor(),\n",
        "                                    transforms.Normalize(mean=[0.485, 0.456, 0.406],\n",
        "                                                         std=[0.229, 0.224, 0.225])\n",
        "])\n"
      ],
      "metadata": {
        "execution": {
          "iopub.status.busy": "2023-02-09T15:46:41.040401Z",
          "iopub.execute_input": "2023-02-09T15:46:41.041007Z",
          "iopub.status.idle": "2023-02-09T15:46:41.052391Z",
          "shell.execute_reply.started": "2023-02-09T15:46:41.040966Z",
          "shell.execute_reply": "2023-02-09T15:46:41.051317Z"
        },
        "trusted": true,
        "id": "rRljMLx_hc0_"
      },
      "execution_count": null,
      "outputs": []
    },
    {
      "cell_type": "code",
      "source": [
        "test_img_dir = '/kaggle/input/sorghum-id-fgvc-9/test'\n",
        "test_img = SorghumTest(test_path = test_img_dir,test_df = test_df,  transform = test_transform)\n",
        "test_loader = DataLoader(dataset = test_img,batch_size=32,shuffle=False)"
      ],
      "metadata": {
        "execution": {
          "iopub.status.busy": "2023-02-09T15:46:41.053947Z",
          "iopub.execute_input": "2023-02-09T15:46:41.054563Z",
          "iopub.status.idle": "2023-02-09T15:46:41.065487Z",
          "shell.execute_reply.started": "2023-02-09T15:46:41.054531Z",
          "shell.execute_reply": "2023-02-09T15:46:41.064340Z"
        },
        "trusted": true,
        "id": "Pf9WcGoshc0_"
      },
      "execution_count": null,
      "outputs": []
    },
    {
      "cell_type": "code",
      "source": [
        "from tqdm import tqdm\n",
        "\n",
        "\n",
        "model.eval()\n",
        "\n",
        "predictions = []\n",
        "\n",
        "for image in tqdm(test_loader):\n",
        "    image = image.to(device)\n",
        "    with torch.no_grad():\n",
        "        outputs = model(image)\n",
        "        preds = outputs.detach().cpu()\n",
        "        predictions.append(preds.argmax(1))"
      ],
      "metadata": {
        "execution": {
          "iopub.status.busy": "2023-02-09T15:47:01.413662Z",
          "iopub.execute_input": "2023-02-09T15:47:01.414146Z",
          "iopub.status.idle": "2023-02-09T16:36:11.120110Z",
          "shell.execute_reply.started": "2023-02-09T15:47:01.414110Z",
          "shell.execute_reply": "2023-02-09T16:36:11.116390Z"
        },
        "trusted": true,
        "id": "OfaaTroxhc0_",
        "outputId": "fb74e7e0-e554-4dc3-8001-ba68f7f4c686"
      },
      "execution_count": null,
      "outputs": [
        {
          "name": "stderr",
          "text": "100%|██████████| 739/739 [49:09<00:00,  3.99s/it]\n",
          "output_type": "stream"
        }
      ]
    },
    {
      "cell_type": "code",
      "source": [
        "predictions"
      ],
      "metadata": {
        "execution": {
          "iopub.status.busy": "2023-02-09T16:51:58.658614Z",
          "iopub.execute_input": "2023-02-09T16:51:58.660048Z",
          "iopub.status.idle": "2023-02-09T16:51:58.691040Z",
          "shell.execute_reply.started": "2023-02-09T16:51:58.659979Z",
          "shell.execute_reply": "2023-02-09T16:51:58.689567Z"
        },
        "collapsed": true,
        "jupyter": {
          "outputs_hidden": true
        },
        "trusted": true,
        "id": "2Jp3S-wnhc0_",
        "outputId": "a59a1a69-b066-4e49-d754-fde1da136553"
      },
      "execution_count": null,
      "outputs": [
        {
          "execution_count": 46,
          "output_type": "execute_result",
          "data": {
            "text/plain": "['PI_329256',\n 'PI_302252',\n 'PI_181083',\n 'PI_157030',\n 'PI_156871',\n 'PI_181080',\n 'PI_155885',\n 'PI_175919',\n 'PI_276837',\n 'PI_267573',\n 'PI_253986',\n 'PI_297155',\n 'PI_153877',\n 'PI_152751',\n 'PI_157804',\n 'PI_144134',\n 'PI_217691',\n 'PI_195754',\n 'PI_175919',\n 'PI_155516',\n 'PI_156268',\n 'PI_181080',\n 'PI_181083',\n 'PI_251672',\n 'PI_156393',\n 'PI_229841',\n 'PI_152816',\n 'PI_276837',\n 'PI_175919',\n 'PI_156487',\n 'PI_273969',\n 'PI_257600',\n 'PI_179749',\n 'PI_152965',\n 'PI_251672',\n 'PI_329326',\n 'PI_154944',\n 'PI_153877',\n 'PI_152728',\n 'PI_276837',\n 'PI_19770',\n 'PI_329310',\n 'PI_145626',\n 'PI_329326',\n 'PI_180348',\n 'PI_180348',\n 'PI_302252',\n 'PI_156871',\n 'PI_145619',\n 'PI_175919',\n 'PI_329326',\n 'PI_152728',\n 'PI_175919',\n 'PI_154988',\n 'PI_154846',\n 'PI_152961',\n 'PI_156330',\n 'PI_156487',\n 'PI_255744',\n 'PI_175919',\n 'PI_145619',\n 'PI_175919',\n 'PI_152751',\n 'PI_92270',\n 'PI_196586',\n 'PI_152923',\n 'PI_152961',\n 'PI_152694',\n 'PI_156463',\n 'PI_257599',\n 'PI_152727',\n 'PI_329256',\n 'PI_152860',\n 'PI_175919',\n 'PI_303658',\n 'PI_176766',\n 'PI_329256',\n 'PI_152966',\n 'PI_276837',\n 'PI_155885',\n 'PI_276837',\n 'PI_297130',\n 'PI_267573',\n 'PI_19770',\n 'PI_156268',\n 'PI_267573',\n 'PI_175919',\n 'PI_217691',\n 'PI_152591',\n 'PI_157035',\n 'PI_196586',\n 'PI_152730',\n 'PI_154987',\n 'PI_154944',\n 'PI_329351',\n 'PI_155885',\n 'PI_156268',\n 'PI_154987',\n 'PI_329326',\n 'PI_329299',\n 'PI_52606',\n 'PI_152816',\n 'PI_180348',\n 'PI_154987',\n 'PI_156178',\n 'PI_156487',\n 'PI_329326',\n 'PI_156330',\n 'PI_156393',\n 'PI_154846',\n 'PI_181080',\n 'PI_156890',\n 'PI_144134',\n 'PI_181083',\n 'PI_167093',\n 'PI_157035',\n 'PI_152733',\n 'PI_152727',\n 'PI_152860',\n 'PI_155516',\n 'PI_156871',\n 'PI_217691',\n 'PI_175919',\n 'PI_329351',\n 'PI_152816',\n 'PI_196586',\n 'PI_155760',\n 'PI_255239',\n 'PI_257600',\n 'PI_229841',\n 'PI_152733',\n 'PI_145626',\n 'PI_152967',\n 'PI_213900',\n 'PI_155885',\n 'PI_329301',\n 'PI_152730',\n 'PI_145626',\n 'PI_152965',\n 'PI_175919',\n 'PI_257600',\n 'PI_303658',\n 'PI_276837',\n 'PI_213900',\n 'PI_329286',\n 'PI_156871',\n 'PI_221651',\n 'PI_152591',\n 'PI_329326',\n 'PI_273969',\n 'PI_157804',\n 'PI_152733',\n 'PI_329299',\n 'PI_156217',\n 'PI_152728',\n 'PI_152816',\n 'PI_276837',\n 'PI_155760',\n 'PI_253986',\n 'PI_302252',\n 'PI_155885',\n 'PI_179749',\n 'PI_196049',\n 'PI_195754',\n 'PI_267573',\n 'PI_329301',\n 'PI_152591',\n 'PI_152860',\n 'PI_218112',\n 'PI_179749',\n 'PI_329299',\n 'PI_157804',\n 'PI_229841',\n 'PI_152923',\n 'PI_157035',\n 'PI_152967',\n 'PI_329326',\n 'PI_175919',\n 'PI_156326',\n 'PI_92270',\n 'PI_175919',\n 'PI_152971',\n 'PI_196583',\n 'PI_329338',\n 'PI_175919',\n 'PI_297155',\n 'PI_152591',\n 'PI_195754',\n 'PI_180348',\n 'PI_152591',\n 'PI_181083',\n 'PI_154988',\n 'PI_152961',\n 'PI_329286',\n 'PI_329256',\n 'PI_152730',\n 'PI_156487',\n 'PI_152862',\n 'PI_156871',\n 'PI_152967',\n 'PI_329326',\n 'PI_156890',\n 'PI_197542',\n 'PI_156268',\n 'PI_329326',\n 'PI_167093',\n 'PI_213900',\n 'PI_156463',\n 'PI_35038',\n 'PI_152860',\n 'PI_156217',\n 'PI_156217',\n 'PI_152828',\n 'PI_329333',\n 'PI_157804',\n 'PI_180348',\n 'PI_273969',\n 'PI_329310',\n 'PI_329351',\n 'PI_253986',\n 'PI_152971',\n 'PI_152591',\n 'PI_329319',\n 'PI_229841',\n 'PI_152860',\n 'PI_303658',\n 'PI_145619',\n 'PI_155516',\n 'PI_176766',\n 'PI_52606',\n 'PI_152591',\n 'PI_181083',\n 'PI_155885',\n 'PI_155516',\n 'PI_152591',\n 'PI_156871',\n 'PI_303658',\n 'PI_155760',\n 'PI_22913',\n 'PI_329326',\n 'PI_329319',\n 'PI_152961',\n 'PI_303658',\n 'PI_229841',\n 'PI_63715',\n 'PI_154988',\n 'PI_195754',\n 'PI_329256',\n 'PI_153877',\n 'PI_152728',\n 'PI_175919',\n 'PI_329319',\n 'PI_155516',\n 'PI_155760',\n 'PI_267573',\n 'PI_218112',\n 'PI_152751',\n 'PI_267573',\n 'PI_156890',\n 'PI_175919',\n 'PI_152751',\n 'PI_196586',\n 'PI_152966',\n 'PI_180348',\n 'PI_144134',\n 'PI_175919',\n 'PI_152751',\n 'PI_253986',\n 'PI_19770',\n 'PI_153877',\n 'PI_155760',\n 'PI_156890',\n 'PI_213900',\n 'PI_197542',\n 'PI_152727',\n 'PI_152751',\n 'PI_155516',\n 'PI_157804',\n 'PI_181080',\n 'PI_156268',\n 'PI_180348',\n 'PI_329326',\n 'PI_197542',\n 'PI_154944',\n 'PI_152591',\n 'PI_181083',\n 'PI_152591',\n 'PI_152961',\n 'PI_329256',\n 'PI_329326',\n 'PI_196049',\n 'PI_180348',\n 'PI_329333',\n 'PI_157035',\n 'PI_152651',\n 'PI_329256',\n 'PI_329310',\n 'PI_179749',\n 'PI_257600',\n 'PI_175919',\n 'PI_154944',\n 'PI_267573',\n 'PI_152728',\n 'PI_144134',\n 'PI_152591',\n 'PI_63715',\n 'PI_154944',\n 'PI_152591',\n 'PI_175919',\n 'PI_329319',\n 'PI_167093',\n 'PI_221651',\n 'PI_155760',\n 'PI_155885',\n 'PI_175919',\n 'PI_144134',\n 'PI_175919',\n 'PI_52606',\n 'PI_196586',\n 'PI_221548',\n 'PI_181083',\n 'PI_303658',\n 'PI_152730',\n 'PI_257600',\n 'PI_156330',\n 'PI_218112',\n 'PI_297130',\n 'PI_196049',\n 'PI_152828',\n 'PI_152828',\n 'PI_196586',\n 'PI_267573',\n 'PI_329301',\n 'PI_267573',\n 'PI_329310',\n 'PI_329310',\n 'PI_152965',\n 'PI_197542',\n 'PI_329301',\n 'PI_92270',\n 'PI_329300',\n 'PI_145619',\n 'PI_155885',\n 'PI_146890',\n 'PI_19770',\n 'PI_255239',\n 'PI_175919',\n 'PI_180348',\n 'PI_156326',\n 'PI_152965',\n 'PI_329299',\n 'PI_176766',\n 'PI_19770',\n 'PI_266927',\n 'PI_273969',\n 'PI_63715',\n 'PI_157035',\n 'PI_156890',\n 'PI_154988',\n 'PI_175919',\n 'PI_180348',\n 'PI_156178',\n 'PI_155516',\n 'PI_196598',\n 'PI_152591',\n 'PI_229841',\n 'PI_267573',\n 'PI_217691',\n 'PI_152860',\n 'PI_302252',\n 'PI_213900',\n 'PI_156178',\n 'PI_152733',\n 'PI_257599',\n 'PI_152591',\n 'PI_196586',\n 'PI_329256',\n 'PI_152966',\n 'PI_251672',\n 'PI_156487',\n 'PI_155516',\n 'PI_267573',\n 'PI_154846',\n 'PI_152728',\n 'PI_152965',\n 'PI_152860',\n 'PI_180348',\n 'PI_156178',\n 'PI_152816',\n 'PI_175919',\n 'PI_153877',\n 'PI_154846',\n 'PI_276837',\n 'PI_167093',\n 'PI_152591',\n 'PI_266927',\n 'PI_273969',\n 'PI_154750',\n 'PI_152860',\n 'PI_176766',\n 'PI_152730',\n 'PI_152967',\n 'PI_180348',\n 'PI_329319',\n 'PI_154988',\n 'PI_329310',\n 'PI_181080',\n 'PI_152967',\n 'PI_329299',\n 'PI_329256',\n 'PI_152591',\n 'PI_255744',\n 'PI_145626',\n 'PI_152728',\n 'PI_221548',\n 'PI_175919',\n 'PI_152828',\n 'PI_180348',\n 'PI_155760',\n 'PI_229841',\n 'PI_180348',\n 'PI_157035',\n 'PI_175919',\n 'PI_181083',\n 'PI_156330',\n 'PI_180348',\n 'PI_152694',\n 'PI_329286',\n 'PI_329286',\n 'PI_180348',\n 'PI_303658',\n 'PI_180348',\n 'PI_175919',\n 'PI_156463',\n 'PI_221651',\n 'PI_156871',\n 'PI_221548',\n 'PI_152771',\n 'PI_152728',\n 'PI_329286',\n 'PI_154750',\n 'PI_63715',\n 'PI_152591',\n 'PI_152694',\n 'PI_63715',\n 'PI_156217',\n 'PI_92270',\n 'PI_218112',\n 'PI_152971',\n 'PI_152860',\n 'PI_156330',\n 'PI_146890',\n 'PI_152730',\n 'PI_175919',\n 'PI_196586',\n 'PI_179749',\n 'PI_145619',\n 'PI_180348',\n 'PI_221651',\n 'PI_257599',\n 'PI_273969',\n 'PI_154988',\n 'PI_155760',\n 'PI_152651',\n 'PI_157804',\n 'PI_152591',\n 'PI_329286',\n 'PI_273969',\n 'PI_267573',\n 'PI_251672',\n 'PI_154988',\n 'PI_152965',\n 'PI_154846',\n 'PI_156268',\n 'PI_329326',\n 'PI_152728',\n 'PI_196586',\n 'PI_329286',\n 'PI_152816',\n 'PI_152923',\n 'PI_167093',\n 'PI_329338',\n 'PI_218112',\n 'PI_154844',\n 'PI_156890',\n 'PI_156178',\n 'PI_196586',\n 'PI_152971',\n 'PI_329300',\n 'PI_329338',\n 'PI_302252',\n 'PI_156463',\n 'PI_197542',\n 'PI_273969',\n 'PI_152751',\n 'PI_152967',\n 'PI_180348',\n 'PI_156890',\n 'PI_152591',\n 'PI_92270',\n 'PI_152751',\n 'PI_156487',\n 'PI_276837',\n 'PI_229841',\n 'PI_155760',\n 'PI_155760',\n 'PI_157035',\n 'PI_329300',\n 'PI_217691',\n 'PI_157804',\n 'PI_152828',\n 'PI_154846',\n 'PI_297155',\n 'PI_156871',\n 'PI_255744',\n 'PI_297155',\n 'PI_152733',\n 'PI_329286',\n 'PI_157035',\n 'PI_221651',\n 'PI_329256',\n 'PI_221548',\n 'PI_152923',\n 'PI_255744',\n 'PI_156871',\n 'PI_175919',\n 'PI_154988',\n 'PI_266927',\n 'PI_180348',\n 'PI_303658',\n 'PI_181083',\n 'PI_213900',\n 'PI_196586',\n 'PI_146890',\n 'PI_175919',\n 'PI_157035',\n 'PI_329256',\n 'PI_155516',\n 'PI_221548',\n 'PI_157804',\n 'PI_180348',\n 'PI_152828',\n 'PI_329256',\n 'PI_152771',\n 'PI_152860',\n 'PI_229841',\n 'PI_152967',\n 'PI_152816',\n 'PI_156178',\n 'PI_152860',\n 'PI_217691',\n 'PI_156393',\n 'PI_154987',\n 'PI_181083',\n 'PI_175919',\n 'PI_251672',\n 'PI_329333',\n 'PI_22913',\n 'PI_152816',\n 'PI_329319',\n 'PI_267573',\n 'PI_180348',\n 'PI_52606',\n 'PI_154988',\n 'PI_176766',\n 'PI_52606',\n 'PI_156463',\n 'PI_329319',\n 'PI_329338',\n 'PI_175919',\n 'PI_156326',\n 'PI_152860',\n 'PI_267573',\n 'PI_92270',\n 'PI_154846',\n 'PI_152694',\n 'PI_156268',\n 'PI_213900',\n 'PI_181080',\n 'PI_154988',\n 'PI_196586',\n 'PI_156326',\n 'PI_152828',\n 'PI_52606',\n 'PI_156463',\n 'PI_297130',\n 'PI_196598',\n 'PI_156268',\n 'PI_213900',\n 'PI_329256',\n 'PI_181080',\n 'PI_152751',\n 'PI_175919',\n 'PI_155885',\n 'PI_179749',\n 'PI_170787',\n 'PI_267573',\n 'PI_267573',\n 'PI_152923',\n 'PI_157030',\n 'PI_144134',\n 'PI_152591',\n 'PI_145626',\n 'PI_154944',\n 'PI_155760',\n 'PI_276837',\n 'PI_229841',\n 'PI_155516',\n 'PI_196049',\n 'PI_213900',\n 'PI_156487',\n 'PI_303658',\n 'PI_196586',\n 'PI_180348',\n 'PI_152728',\n 'PI_152591',\n 'PI_152751',\n 'PI_152971',\n 'PI_175919',\n 'PI_273969',\n 'PI_156463',\n 'PI_229841',\n 'PI_170787',\n 'PI_152967',\n 'PI_196586',\n 'PI_152651',\n 'PI_329256',\n 'PI_156463',\n 'PI_156463',\n 'PI_175919',\n 'PI_213900',\n 'PI_229841',\n 'PI_329310',\n 'PI_196586',\n 'PI_152971',\n 'PI_152733',\n 'PI_19770',\n 'PI_329286',\n 'PI_329326',\n 'PI_152923',\n 'PI_154988',\n 'PI_297130',\n 'PI_152967',\n 'PI_273969',\n 'PI_176766',\n 'PI_329300',\n 'PI_152961',\n 'PI_154987',\n 'PI_329338',\n 'PI_152816',\n 'PI_196049',\n 'PI_181083',\n 'PI_197542',\n 'PI_144134',\n 'PI_175919',\n 'PI_217691',\n 'PI_145619',\n 'PI_218112',\n 'PI_156890',\n 'PI_329319',\n 'PI_152923',\n 'PI_152860',\n 'PI_146890',\n 'PI_257599',\n 'PI_175919',\n 'PI_153877',\n 'PI_145619',\n 'PI_145626',\n 'PI_329310',\n 'PI_181080',\n 'PI_167093',\n 'PI_213900',\n 'PI_302252',\n 'PI_155760',\n 'PI_253986',\n 'PI_179749',\n 'PI_329256',\n 'PI_152694',\n 'PI_329256',\n 'PI_63715',\n 'PI_329286',\n 'PI_176766',\n 'PI_156330',\n 'PI_154844',\n 'PI_267573',\n 'PI_251672',\n 'PI_251672',\n 'PI_156871',\n 'PI_329351',\n 'PI_152730',\n 'PI_180348',\n 'PI_181083',\n 'PI_329351',\n 'PI_22913',\n 'PI_329300',\n 'PI_152591',\n 'PI_156871',\n 'PI_302252',\n 'PI_156463',\n 'PI_152730',\n 'PI_154750',\n 'PI_152727',\n 'PI_329300',\n 'PI_154988',\n 'PI_180348',\n 'PI_297171',\n 'PI_329286',\n 'PI_175919',\n 'PI_329301',\n 'PI_52606',\n 'PI_213900',\n 'PI_155885',\n 'PI_196598',\n 'PI_154987',\n 'PI_218112',\n 'PI_153877',\n 'PI_329310',\n 'PI_152816',\n 'PI_217691',\n 'PI_156890',\n 'PI_152751',\n 'PI_329351',\n 'PI_157030',\n 'PI_175919',\n 'PI_329351',\n 'PI_152961',\n 'PI_152733',\n 'PI_267573',\n 'PI_276837',\n 'PI_303658',\n 'PI_255744',\n 'PI_152733',\n 'PI_229841',\n 'PI_152967',\n 'PI_19770',\n 'PI_152591',\n 'PI_154987',\n 'PI_35038',\n 'PI_156890',\n 'PI_329300',\n 'PI_154944',\n 'PI_52606',\n 'PI_152651',\n 'PI_329333',\n 'PI_218112',\n 'PI_302252',\n 'PI_221651',\n 'PI_152591',\n 'PI_257599',\n 'PI_180348',\n 'PI_152966',\n 'PI_152591',\n 'PI_329310',\n 'PI_155760',\n 'PI_156330',\n 'PI_329299',\n 'PI_157035',\n 'PI_156487',\n 'PI_167093',\n 'PI_156326',\n 'PI_152728',\n 'PI_253986',\n 'PI_175919',\n 'PI_154987',\n 'PI_152967',\n 'PI_145633',\n 'PI_152862',\n 'PI_196049',\n 'PI_255239',\n 'PI_145626',\n 'PI_152751',\n 'PI_156871',\n 'PI_196598',\n 'PI_229841',\n 'PI_329310',\n 'PI_303658',\n 'PI_329301',\n 'PI_22913',\n 'PI_154846',\n 'PI_297155',\n 'PI_154987',\n 'PI_154988',\n 'PI_152967',\n 'PI_175919',\n 'PI_154944',\n 'PI_155885',\n 'PI_276837',\n 'PI_156487',\n 'PI_52606',\n 'PI_19770',\n 'PI_152730',\n 'PI_52606',\n 'PI_145619',\n 'PI_297130',\n 'PI_152860',\n 'PI_152591',\n 'PI_329351',\n 'PI_276837',\n 'PI_154988',\n 'PI_155516',\n 'PI_152733',\n 'PI_180348',\n 'PI_154987',\n 'PI_155516',\n 'PI_19770',\n 'PI_179749',\n 'PI_155516',\n 'PI_156393',\n 'PI_145619',\n 'PI_329256',\n 'PI_152751',\n 'PI_152728',\n 'PI_329301',\n 'PI_181083',\n 'PI_303658',\n 'PI_180348',\n 'PI_155516',\n 'PI_196586',\n 'PI_157035',\n 'PI_329286',\n 'PI_152730',\n 'PI_156487',\n 'PI_303658',\n 'PI_175919',\n 'PI_167093',\n 'PI_63715',\n 'PI_196598',\n 'PI_152966',\n 'PI_152967',\n 'PI_156463',\n 'PI_152967',\n 'PI_152730',\n 'PI_152751',\n 'PI_152971',\n 'PI_303658',\n 'PI_152971',\n 'PI_329299',\n 'PI_167093',\n 'PI_155885',\n 'PI_297155',\n 'PI_152828',\n 'PI_156871',\n 'PI_155516',\n 'PI_155760',\n 'PI_181083',\n 'PI_154987',\n 'PI_175919',\n 'PI_229841',\n 'PI_196586',\n 'PI_154988',\n 'PI_196049',\n 'PI_157030',\n 'PI_329286',\n 'PI_329256',\n 'PI_329326',\n 'PI_175919',\n 'PI_156463',\n 'PI_144134',\n 'PI_196586',\n 'PI_154988',\n 'PI_276837',\n 'PI_329256',\n 'PI_155885',\n 'PI_152733',\n 'PI_218112',\n 'PI_152860',\n 'PI_251672',\n 'PI_329286',\n 'PI_156890',\n 'PI_153877',\n 'PI_257600',\n 'PI_154987',\n 'PI_156463',\n 'PI_154988',\n 'PI_196049',\n 'PI_155516',\n 'PI_273969',\n 'PI_176766',\n 'PI_156871',\n 'PI_152771',\n 'PI_156463',\n 'PI_152828',\n 'PI_273465',\n 'PI_267573',\n 'PI_157035',\n 'PI_221651',\n 'PI_175919',\n 'PI_257599',\n 'PI_152591',\n 'PI_195754',\n 'PI_180348',\n 'PI_197542',\n 'PI_63715',\n 'PI_156393',\n 'PI_329256',\n 'PI_217691',\n 'PI_152966',\n 'PI_152816',\n 'PI_297155',\n 'PI_152751',\n 'PI_154987',\n 'PI_152816',\n 'PI_152816',\n 'PI_176766',\n 'PI_267573',\n 'PI_257599',\n 'PI_155885',\n 'PI_152862',\n 'PI_329310',\n 'PI_302252',\n 'PI_152727',\n 'PI_145626',\n 'PI_181083',\n 'PI_329286',\n 'PI_156178',\n 'PI_329310',\n 'PI_155760',\n 'PI_152728',\n 'PI_154987',\n 'PI_218112',\n 'PI_218112',\n 'PI_152967',\n 'PI_152816',\n 'PI_156178',\n 'PI_329310',\n 'PI_255239',\n 'PI_181083',\n 'PI_267573',\n 'PI_175919',\n 'PI_221651',\n 'PI_145626',\n 'PI_155760',\n 'PI_156178',\n 'PI_63715',\n 'PI_175919',\n 'PI_229841',\n 'PI_152730',\n 'PI_170787',\n 'PI_156487',\n 'PI_152727',\n 'PI_152828',\n 'PI_152816',\n 'PI_267573',\n 'PI_329310',\n 'PI_156178',\n 'PI_197542',\n 'PI_329338',\n 'PI_195754',\n 'PI_276837',\n 'PI_329300',\n 'PI_145626',\n 'PI_267573',\n 'PI_152771',\n 'PI_152730',\n 'PI_22913',\n 'PI_154988',\n 'PI_35038',\n 'PI_152923',\n 'PI_329299',\n 'PI_145626',\n 'PI_329326',\n 'PI_213900',\n 'PI_52606',\n 'PI_155516',\n 'PI_251672',\n 'PI_329286',\n 'PI_329319',\n 'PI_217691',\n 'PI_297130',\n 'PI_196598',\n 'PI_329256',\n 'PI_155760',\n 'PI_167093',\n 'PI_154944',\n 'PI_156890',\n 'PI_92270',\n 'PI_329333',\n 'PI_302252',\n 'PI_329256',\n 'PI_253986',\n 'PI_273969',\n 'PI_196586',\n 'PI_175919',\n 'PI_52606',\n 'PI_152591',\n 'PI_146890',\n 'PI_329300',\n 'PI_152730',\n 'PI_152816',\n 'PI_154987',\n 'PI_276837',\n 'PI_63715',\n 'PI_218112',\n 'PI_329351',\n 'PI_155760',\n 'PI_152728',\n 'PI_156871',\n 'PI_152591',\n 'PI_152730',\n 'PI_329338',\n ...]"
          },
          "metadata": {}
        }
      ]
    },
    {
      "cell_type": "code",
      "source": [
        "temp = predictions[0]\n",
        "for i in range(len(predictions) - 1):\n",
        "    temp = torch.cat((temp, predictions[i+1]))"
      ],
      "metadata": {
        "execution": {
          "iopub.status.busy": "2023-02-09T16:36:20.599386Z",
          "iopub.execute_input": "2023-02-09T16:36:20.601323Z",
          "iopub.status.idle": "2023-02-09T16:36:20.624909Z",
          "shell.execute_reply.started": "2023-02-09T16:36:20.601250Z",
          "shell.execute_reply": "2023-02-09T16:36:20.623513Z"
        },
        "trusted": true,
        "id": "P7PoWnCshc1A"
      },
      "execution_count": null,
      "outputs": []
    },
    {
      "cell_type": "code",
      "source": [
        "df = pd.read_csv('/kaggle/input/sorghum-id-fgvc-9/train_cultivar_mapping.csv')"
      ],
      "metadata": {
        "execution": {
          "iopub.status.busy": "2023-02-09T16:38:04.972223Z",
          "iopub.execute_input": "2023-02-09T16:38:04.972871Z",
          "iopub.status.idle": "2023-02-09T16:38:05.045640Z",
          "shell.execute_reply.started": "2023-02-09T16:38:04.972825Z",
          "shell.execute_reply": "2023-02-09T16:38:05.044277Z"
        },
        "trusted": true,
        "id": "I32t1Bxchc1A"
      },
      "execution_count": null,
      "outputs": []
    },
    {
      "cell_type": "code",
      "source": [
        "df.head()"
      ],
      "metadata": {
        "execution": {
          "iopub.status.busy": "2023-02-09T16:38:18.560429Z",
          "iopub.execute_input": "2023-02-09T16:38:18.560907Z",
          "iopub.status.idle": "2023-02-09T16:38:18.584477Z",
          "shell.execute_reply.started": "2023-02-09T16:38:18.560868Z",
          "shell.execute_reply": "2023-02-09T16:38:18.583459Z"
        },
        "trusted": true,
        "id": "8cHB66Ikhc1A",
        "outputId": "49cd1f11-6d67-45ab-b38f-98f1e94d50cc"
      },
      "execution_count": null,
      "outputs": [
        {
          "execution_count": 39,
          "output_type": "execute_result",
          "data": {
            "text/plain": "                          image   cultivar\n0  2017-06-16__12-24-20-930.png  PI_257599\n1  2017-06-02__16-48-57-866.png  PI_154987\n2  2017-06-12__13-18-07-707.png   PI_92270\n3  2017-06-22__13-18-06-841.png  PI_152651\n4  2017-06-26__12-56-48-642.png  PI_176766",
            "text/html": "<div>\n<style scoped>\n    .dataframe tbody tr th:only-of-type {\n        vertical-align: middle;\n    }\n\n    .dataframe tbody tr th {\n        vertical-align: top;\n    }\n\n    .dataframe thead th {\n        text-align: right;\n    }\n</style>\n<table border=\"1\" class=\"dataframe\">\n  <thead>\n    <tr style=\"text-align: right;\">\n      <th></th>\n      <th>image</th>\n      <th>cultivar</th>\n    </tr>\n  </thead>\n  <tbody>\n    <tr>\n      <th>0</th>\n      <td>2017-06-16__12-24-20-930.png</td>\n      <td>PI_257599</td>\n    </tr>\n    <tr>\n      <th>1</th>\n      <td>2017-06-02__16-48-57-866.png</td>\n      <td>PI_154987</td>\n    </tr>\n    <tr>\n      <th>2</th>\n      <td>2017-06-12__13-18-07-707.png</td>\n      <td>PI_92270</td>\n    </tr>\n    <tr>\n      <th>3</th>\n      <td>2017-06-22__13-18-06-841.png</td>\n      <td>PI_152651</td>\n    </tr>\n    <tr>\n      <th>4</th>\n      <td>2017-06-26__12-56-48-642.png</td>\n      <td>PI_176766</td>\n    </tr>\n  </tbody>\n</table>\n</div>"
          },
          "metadata": {}
        }
      ]
    },
    {
      "cell_type": "code",
      "source": [
        "unique_cultivars = list(df['cultivar'].unique())\n",
        "predictions = [unique_cultivars[x] for x in temp]"
      ],
      "metadata": {
        "execution": {
          "iopub.status.busy": "2023-02-09T16:38:28.166125Z",
          "iopub.execute_input": "2023-02-09T16:38:28.166776Z",
          "iopub.status.idle": "2023-02-09T16:38:29.271932Z",
          "shell.execute_reply.started": "2023-02-09T16:38:28.166727Z",
          "shell.execute_reply": "2023-02-09T16:38:29.268621Z"
        },
        "trusted": true,
        "id": "If-A_qyKhc1A"
      },
      "execution_count": null,
      "outputs": []
    },
    {
      "cell_type": "code",
      "source": [
        "test_df['cultivar'] = predictions"
      ],
      "metadata": {
        "execution": {
          "iopub.status.busy": "2023-02-09T16:38:31.065306Z",
          "iopub.execute_input": "2023-02-09T16:38:31.067036Z",
          "iopub.status.idle": "2023-02-09T16:38:31.075512Z",
          "shell.execute_reply.started": "2023-02-09T16:38:31.066978Z",
          "shell.execute_reply": "2023-02-09T16:38:31.074247Z"
        },
        "trusted": true,
        "id": "CjdtQmPrhc1A"
      },
      "execution_count": null,
      "outputs": []
    },
    {
      "cell_type": "code",
      "source": [
        "test_df.head()"
      ],
      "metadata": {
        "execution": {
          "iopub.status.busy": "2023-02-09T16:38:34.348808Z",
          "iopub.execute_input": "2023-02-09T16:38:34.349227Z",
          "iopub.status.idle": "2023-02-09T16:38:34.360538Z",
          "shell.execute_reply.started": "2023-02-09T16:38:34.349194Z",
          "shell.execute_reply": "2023-02-09T16:38:34.359517Z"
        },
        "trusted": true,
        "id": "CIpjCRiAhc1A",
        "outputId": "7b16a654-3b24-4cc3-b0e7-3ceb565c9576"
      },
      "execution_count": null,
      "outputs": [
        {
          "execution_count": 42,
          "output_type": "execute_result",
          "data": {
            "text/plain": "         filename   cultivar\n0  1000005362.png  PI_329256\n1  1000099707.png  PI_302252\n2  1000135300.png  PI_181083\n3  1000136796.png  PI_157030\n4  1000292439.png  PI_156871",
            "text/html": "<div>\n<style scoped>\n    .dataframe tbody tr th:only-of-type {\n        vertical-align: middle;\n    }\n\n    .dataframe tbody tr th {\n        vertical-align: top;\n    }\n\n    .dataframe thead th {\n        text-align: right;\n    }\n</style>\n<table border=\"1\" class=\"dataframe\">\n  <thead>\n    <tr style=\"text-align: right;\">\n      <th></th>\n      <th>filename</th>\n      <th>cultivar</th>\n    </tr>\n  </thead>\n  <tbody>\n    <tr>\n      <th>0</th>\n      <td>1000005362.png</td>\n      <td>PI_329256</td>\n    </tr>\n    <tr>\n      <th>1</th>\n      <td>1000099707.png</td>\n      <td>PI_302252</td>\n    </tr>\n    <tr>\n      <th>2</th>\n      <td>1000135300.png</td>\n      <td>PI_181083</td>\n    </tr>\n    <tr>\n      <th>3</th>\n      <td>1000136796.png</td>\n      <td>PI_157030</td>\n    </tr>\n    <tr>\n      <th>4</th>\n      <td>1000292439.png</td>\n      <td>PI_156871</td>\n    </tr>\n  </tbody>\n</table>\n</div>"
          },
          "metadata": {}
        }
      ]
    },
    {
      "cell_type": "code",
      "source": [
        "len(test_df)"
      ],
      "metadata": {
        "execution": {
          "iopub.status.busy": "2023-02-09T16:38:52.880492Z",
          "iopub.execute_input": "2023-02-09T16:38:52.880933Z",
          "iopub.status.idle": "2023-02-09T16:38:52.888891Z",
          "shell.execute_reply.started": "2023-02-09T16:38:52.880894Z",
          "shell.execute_reply": "2023-02-09T16:38:52.887532Z"
        },
        "trusted": true,
        "id": "Wr_yC3fqhc1A",
        "outputId": "1e7707f5-a254-423a-b604-0b54a0d01f9a"
      },
      "execution_count": null,
      "outputs": [
        {
          "execution_count": 43,
          "output_type": "execute_result",
          "data": {
            "text/plain": "23639"
          },
          "metadata": {}
        }
      ]
    },
    {
      "cell_type": "code",
      "source": [
        "test_df.isna().sum()"
      ],
      "metadata": {
        "execution": {
          "iopub.status.busy": "2023-02-09T16:39:21.125379Z",
          "iopub.execute_input": "2023-02-09T16:39:21.125850Z",
          "iopub.status.idle": "2023-02-09T16:39:21.141979Z",
          "shell.execute_reply.started": "2023-02-09T16:39:21.125814Z",
          "shell.execute_reply": "2023-02-09T16:39:21.140737Z"
        },
        "trusted": true,
        "id": "hmOIx4gGhc1A",
        "outputId": "02cc400b-c308-4e75-aeb3-37c32cbe0d28"
      },
      "execution_count": null,
      "outputs": [
        {
          "execution_count": 44,
          "output_type": "execute_result",
          "data": {
            "text/plain": "filename    0\ncultivar    0\ndtype: int64"
          },
          "metadata": {}
        }
      ]
    },
    {
      "cell_type": "code",
      "source": [
        "test_df.to_csv(\"submission.csv\",index=False)"
      ],
      "metadata": {
        "execution": {
          "iopub.status.busy": "2023-02-09T16:43:04.135829Z",
          "iopub.execute_input": "2023-02-09T16:43:04.136374Z",
          "iopub.status.idle": "2023-02-09T16:43:04.181742Z",
          "shell.execute_reply.started": "2023-02-09T16:43:04.136330Z",
          "shell.execute_reply": "2023-02-09T16:43:04.180333Z"
        },
        "trusted": true,
        "id": "taktxQbxhc1A"
      },
      "execution_count": null,
      "outputs": []
    },
    {
      "cell_type": "code",
      "source": [],
      "metadata": {
        "id": "FmInkHH2hc1A"
      },
      "execution_count": null,
      "outputs": []
    }
  ]
}